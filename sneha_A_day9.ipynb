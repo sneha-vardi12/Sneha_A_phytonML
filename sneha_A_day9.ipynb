{
  "cells": [
    {
      "cell_type": "code",
      "execution_count": null,
      "metadata": {
        "colab": {
          "base_uri": "https://localhost:8080/"
        },
        "id": "nbBMJiUCTpaS",
        "outputId": "cbf1664a-e537-4338-8d38-983f499e6b20"
      },
      "outputs": [
        {
          "name": "stdout",
          "output_type": "stream",
          "text": [
            "addition 30\n",
            "substraction 10\n",
            "multiplicatrion 200\n",
            "division 2.0\n"
          ]
        }
      ],
      "source": [
        "a=20\n",
        "b=10\n",
        "print(\"addition\",(a+b))\n",
        "print(\"substraction\",(a-b))\n",
        "print(\"multiplicatrion\",(a*b))\n",
        "print(\"division\",(a/b))"
      ]
    },
    {
      "cell_type": "code",
      "execution_count": null,
      "metadata": {
        "colab": {
          "base_uri": "https://localhost:8080/"
        },
        "id": "6oERpzVWhTnW",
        "outputId": "f9a26986-a8e1-4a97-e685-e25a39dca86a"
      },
      "outputs": [
        {
          "name": "stdout",
          "output_type": "stream",
          "text": [
            "enter a value of a:3\n",
            "enter a value of b:4\n",
            "palease select your operation:\n",
            "1.add,\n",
            "2.substract,\n",
            "3.multiply,\n",
            "4.divide\n",
            "enter your choice2\n",
            "substract -1\n"
          ]
        }
      ],
      "source": [
        "a=int(input(\"enter a value of a:\"))\n",
        "b=int(input(\"enter a value of b:\"))\n",
        "print(\"palease select your operation:\\n1.add,\\n2.substract,\\n3.multiply,\\n4.divide\")\n",
        "select=(input(\"enter your choice\"))\n",
        "if select=='1':\n",
        "  print(\"add\",(a+b))\n",
        "elif select=='2':\n",
        "  print(\"substract\",(a-b))\n",
        "elif select=='3':\n",
        "  print(\"multiply\",(a*b))\n",
        "elif select=='4':\n",
        "  print(\"divide\",(a/b))\n",
        "else:\n",
        "  print(\"exit\")\n"
      ]
    },
    {
      "cell_type": "code",
      "execution_count": null,
      "metadata": {
        "id": "GIxzjfiBpwqf"
      },
      "outputs": [],
      "source": [
        "age=int(input(\"enter age\"))\n",
        "income=int(input(\"enter annual income\"))\n",
        "score=int(input(\"enter credit card score\"))\n",
        "min_age=18\n",
        "min_income=30000\n",
        "min_credit_score=650\n",
        "if age>=min_age and income>=min_income and score>=min_credit_score:\n",
        "  print(\"eligible\")\n",
        "else:\n",
        "  print(\"not eligible\")\n"
      ]
    },
    {
      "cell_type": "code",
      "execution_count": null,
      "metadata": {
        "id": "wOfONSFhytm3"
      },
      "outputs": [],
      "source": [
        "list = [\"apple\", \"banana\", \"cherry\"]\n",
        "print(list[1])\n",
        "list = [\"apple\", \"banana\", \"cherry\"]\n",
        "print(list[-1])\n",
        "list = [\"apple\", \"banana\", \"cherry\", \"orange\", \"kiwi\", \"melon\", \"mango\"]\n",
        "print(list[2:5])"
      ]
    },
    {
      "cell_type": "code",
      "execution_count": null,
      "metadata": {
        "id": "J4YITS5jLFnl"
      },
      "outputs": [],
      "source": [
        "#list methods\n",
        "\n",
        "#append\n",
        "fruits = ['apple', 'banana', 'cherry']\n",
        "fruits.append(\"orange\")\n",
        "print(fruits)\n",
        "#clear\n",
        "fruits = ['apple', 'banana', 'cherry', 'orange']\n",
        "fruits.clear()\n",
        "print(fruits)\n",
        "#copy\n",
        "fruits = ['apple', 'banana', 'cherry', 'orange']\n",
        "x = fruits.copy()\n",
        "print(fruits)\n",
        "#count\n",
        "fruits = ['apple', 'banana', 'cherry']\n",
        "x = fruits.count(\"cherry\")\n",
        "print(fruits)\n",
        "#extend\n",
        "fruits = ['apple', 'banana', 'cherry']\n",
        "cars = ['Ford', 'BMW', 'Volvo']\n",
        "fruits.extend(cars)\n",
        "print(fruits)\n",
        "#index\n",
        "fruits = ['apple', 'banana', 'cherry']\n",
        "x = fruits.index(\"cherry\")\n",
        "print(x)\n",
        "#insert\n",
        "fruits = ['apple', 'banana', 'cherry']\n",
        "fruits.insert(1, \"orange\")\n",
        "print(fruits)\n",
        "#pop\n",
        "fruits = ['apple', 'banana', 'cherry']\n",
        "fruits.pop(1)\n",
        "print(fruits)\n",
        "#remove\n",
        "fruits = ['apple', 'banana', 'cherry']\n",
        "fruits.remove(\"banana\")\n",
        "print(fruits)\n",
        "#reverse\n",
        "fruits = ['apple', 'banana', 'cherry']\n",
        "fruits.reverse()\n",
        "print(fruits)\n",
        "#sort\n",
        "cars = ['Ford', 'BMW', 'Volvo']\n",
        "cars.sort()\n",
        "print(cars)\n"
      ]
    },
    {
      "cell_type": "code",
      "execution_count": null,
      "metadata": {
        "id": "Kc0HCEbrOjNF"
      },
      "outputs": [],
      "source": [
        "#tuple methods\n",
        "thistuple = (1, 3, 7, 8, 7, 5, 4, 6, 8, 5)\n",
        "x = thistuple.count(5)\n",
        "print(x)\n",
        "thistuple = (1, 3, 7, 8, 7, 5, 4, 6, 8, 5)\n",
        "x = thistuple.index(8)\n",
        "int(x)"
      ]
    },
    {
      "cell_type": "code",
      "execution_count": null,
      "metadata": {
        "id": "40QN6SgtPoV9"
      },
      "outputs": [],
      "source": [
        "for i in range(0,11):\n",
        "  print(i)"
      ]
    },
    {
      "cell_type": "code",
      "execution_count": null,
      "metadata": {
        "id": "Bn-1oTFCP2hU"
      },
      "outputs": [],
      "source": [
        "l=[95,83,72,65,58]\n",
        "for i in range(0,len(l)):\n",
        "  print(l[i])\n"
      ]
    },
    {
      "cell_type": "code",
      "execution_count": null,
      "metadata": {
        "id": "LI37GmdxQju2"
      },
      "outputs": [],
      "source": [
        "s=\"abc\"\n",
        "for i in range(0,len(s)):\n",
        "  print(s[i],end=\",\")"
      ]
    },
    {
      "cell_type": "code",
      "execution_count": null,
      "metadata": {
        "id": "I65Dz7UoUNNI"
      },
      "outputs": [],
      "source": [
        "for i in range(10,15):\n",
        "  print(i)"
      ]
    },
    {
      "cell_type": "code",
      "execution_count": null,
      "metadata": {
        "id": "Gm-d5il4Ua12"
      },
      "outputs": [],
      "source": [
        "for i in range(60,70):\n",
        "  for j in range(1,10):\n",
        "    print(i,j)"
      ]
    },
    {
      "cell_type": "code",
      "execution_count": null,
      "metadata": {
        "id": "UyelA8c4U_S2"
      },
      "outputs": [],
      "source": [
        "num=int(input(\"enter a number:\"))\n",
        "if (num>0):\n",
        "  print(\"multiplication table of:\",num)\n",
        "  for i in range(0,11):\n",
        "    print(num,\"*\",i,\"=\",num*i)\n",
        "else:\n",
        "  print(\"enter value other than zero\")"
      ]
    },
    {
      "cell_type": "code",
      "execution_count": null,
      "metadata": {
        "id": "3TN8V9S1YCWu"
      },
      "outputs": [],
      "source": [
        "num=int(input(\"enter a number:\"))\n",
        "for i in range(1,i+1):\n",
        "  for j in range(1,5):\n",
        "    print(i,\"*\",j,\"=\",i*j)"
      ]
    },
    {
      "cell_type": "code",
      "execution_count": null,
      "metadata": {
        "id": "WjGCsi-Kcf4w"
      },
      "outputs": [],
      "source": [
        "inventory={\n",
        "    \"laptop\":{\n",
        "    \"quantity\":50,\n",
        "    \"price\":999.99\n",
        "},\n",
        "\"phones\":{\n",
        "    \"quantity\":100,\n",
        "    \"price\":599.99\n",
        "},\n",
        "\"tables\":{\n",
        "    \"quantity\":30,\n",
        "    \"price\":399.99\n",
        "},\n",
        "}\n",
        "print(inventory[\"laptop\"][\"price\"])"
      ]
    },
    {
      "cell_type": "code",
      "execution_count": null,
      "metadata": {
        "id": "nfxhX_91e47n"
      },
      "outputs": [],
      "source": [
        "#acessing values\n",
        "person={\n",
        "    \"name\":\"sneha\",\n",
        "    \"age\":21,\n",
        "}\n",
        "print(person['name'])\n",
        "print(person.get('age','unknown'))\n",
        "print(person.get('height','unknown'))"
      ]
    },
    {
      "cell_type": "code",
      "execution_count": null,
      "metadata": {
        "id": "zo2y5zvngQOn"
      },
      "outputs": [],
      "source": [
        "#dictionary methods\n",
        "\n",
        "#clear\n",
        "car = {\n",
        "  \"brand\": \"Ford\",\n",
        "  \"model\": \"Mustang\",\n",
        "  \"year\": 1964\n",
        "}\n",
        "car.clear()\n",
        "print(car)\n",
        "#copy\n",
        "car = {\n",
        "  \"brand\": \"Ford\",\n",
        "  \"model\": \"Mustang\",\n",
        "  \"year\": 1964\n",
        "}\n",
        "x = car.copy()\n",
        "print(x)\n",
        "#fromkeys\n",
        "x = ('key1', 'key2', 'key3')\n",
        "y = 0\n",
        "dict = dict.fromkeys(x, y)\n",
        "print(dict)\n",
        "#get\n",
        "car = {\n",
        "  \"brand\": \"Ford\",\n",
        "  \"model\": \"Mustang\",\n",
        "  \"year\": 1964\n",
        "}\n",
        "x = car.get(\"model\")\n",
        "print(x)\n",
        "#item\n",
        "car = {\n",
        "  \"brand\": \"Ford\",\n",
        "  \"model\": \"Mustang\",\n",
        "  \"year\": 1964\n",
        "}\n",
        "x = car.items()\n",
        "print(x)\n",
        "#keys\n",
        "car = {\n",
        "  \"brand\": \"Ford\",\n",
        "  \"model\": \"Mustang\",\n",
        "  \"year\": 1964\n",
        "}\n",
        "x = car.keys()\n",
        "print(x)\n",
        "#pop\n",
        "car = {\n",
        "  \"brand\": \"Ford\",\n",
        "  \"model\": \"Mustang\",\n",
        "  \"year\": 1964\n",
        "}\n",
        "car.pop(\"model\")\n",
        "print(car)\n",
        "#popitem\n",
        "car = {\n",
        "  \"brand\": \"Ford\",\n",
        "  \"model\": \"Mustang\",\n",
        "  \"year\": 1964\n",
        "}\n",
        "car.popitem()\n",
        "print(car)\n",
        "#setdefault\n",
        "car = {\n",
        "  \"brand\": \"Ford\",\n",
        "  \"model\": \"Mustang\",\n",
        "  \"year\": 1964\n",
        "}\n",
        "x = car.setdefault(\"model\", \"Bronco\")\n",
        "print(x)\n",
        "#update\n",
        "car = {\n",
        "  \"brand\": \"Ford\",\n",
        "  \"model\": \"Mustang\",\n",
        "  \"year\": 1964\n",
        "}\n",
        "car.update({\"color\": \"White\"})\n",
        "print(car)\n",
        "#values\n",
        "car = {\n",
        "  \"brand\": \"Ford\",\n",
        "  \"model\": \"Mustang\",\n",
        "  \"year\": 1964\n",
        "}\n",
        "x = car.values()\n",
        "print(x)\n",
        "\n"
      ]
    },
    {
      "cell_type": "code",
      "execution_count": null,
      "metadata": {
        "id": "9nd4Khwahtf3"
      },
      "outputs": [],
      "source": [
        "\n",
        "def fibonacci(n):\n",
        "  a,b=0,1\n",
        "  for i in range(n):\n",
        "   print(a, end=\"\")\n",
        "   a,b=b,a+b\n",
        "n=int(input(\"enter a number:\"))\n",
        "fibonacci(n)"
      ]
    },
    {
      "cell_type": "code",
      "execution_count": null,
      "metadata": {
        "id": "pYWhsUN4l8e4"
      },
      "outputs": [],
      "source": [
        "#fibonacci series\n",
        "n=int(input(\"enter n num of terms\"))\n",
        "a=0\n",
        "b=1\n",
        "print(a)\n",
        "print(b)\n",
        "for i in range(2,n):\n",
        "  c=a+b\n",
        "  print(c)\n",
        "  a=b\n",
        "  b=c"
      ]
    },
    {
      "cell_type": "code",
      "execution_count": null,
      "metadata": {
        "id": "WWW7mwG9nwq-"
      },
      "outputs": [],
      "source": [
        "n=5\n",
        "for i in range (0,n):\n",
        "  for j in range(i+1):\n",
        "    print(\"*\",end=\"\")\n",
        "  print()"
      ]
    },
    {
      "cell_type": "code",
      "execution_count": null,
      "metadata": {
        "id": "GOEeLxcApW3G"
      },
      "outputs": [],
      "source": [
        "n=int(input(\"enter number of rows\"))\n",
        "for i in range(0,n):\n",
        "    for j in range(n-i):\n",
        "        print(\"*\", end=\"\")\n",
        "    print()"
      ]
    },
    {
      "cell_type": "code",
      "execution_count": null,
      "metadata": {
        "id": "KOayxt1stBUl"
      },
      "outputs": [],
      "source": [
        "n=int(input(\"enter no of rows\"))\n",
        "for i in range(0,n):\n",
        "   for j in range(n-i):\n",
        "     print(\" \",end=\"\")\n",
        "   for j in range(i):\n",
        "     print(\"*\",end=\"\")\n",
        "   for j in range(i+1):\n",
        "     print(\"*\",end=\"\")\n",
        "   print()"
      ]
    },
    {
      "cell_type": "code",
      "execution_count": null,
      "metadata": {
        "id": "ywJoRI03xpB2"
      },
      "outputs": [],
      "source": [
        "n=int(input(\"enter no of rows\"))\n",
        "for i in range(0,n):\n",
        "   for j in range(i+1):\n",
        "     print(\" \",end=\"\")\n",
        "   for j in range(n-i-1):\n",
        "     print(\"*\",end=\"\")\n",
        "   for j in range(n-i):\n",
        "     print(\"*\",end=\"\")\n",
        "   print()"
      ]
    },
    {
      "cell_type": "code",
      "execution_count": null,
      "metadata": {
        "id": "6wQTePsyz312"
      },
      "outputs": [],
      "source": [
        "n=int(input(\"enter no of rows\"))\n",
        "for i in range(0,n-1):\n",
        "   for j in range(n-i):\n",
        "     print(\" \",end=\"\")\n",
        "   for j in range(i):\n",
        "     print(\"*\",end=\"\")\n",
        "   for j in range(i+1):\n",
        "     print(\"*\",end=\"\")\n",
        "   print()\n",
        "for i in range(0,n):\n",
        "  for j in range(i+1):\n",
        "    print(\" \",end=\"\")\n",
        "  for j in range(n-i-1):\n",
        "    print(\"*\",end=\"\")\n",
        "  for j in range(n-i):\n",
        "     print(\"*\",end=\"\")\n",
        "  print()"
      ]
    },
    {
      "cell_type": "code",
      "execution_count": null,
      "metadata": {
        "id": "aueBAo3B4Ivf"
      },
      "outputs": [],
      "source": [
        "\n",
        "def evenodd(n):\n",
        "  if n%2==0:\n",
        "    return \"even\"\n",
        "  else:\n",
        "    return \"odd\"\n",
        "n=int(input(\"enter a num:\"))\n",
        "n=evenodd(n)\n",
        "if n==\"even\":\n",
        "  print(\"hii\")\n",
        "else:\n",
        "  print(\"byee\")\n"
      ]
    },
    {
      "cell_type": "code",
      "execution_count": null,
      "metadata": {
        "id": "h8yHqgZNDGq4"
      },
      "outputs": [],
      "source": [
        "def calculate_average(*numbers):\n",
        "  return sum(numbers)/len(numbers)\n",
        "avg1=calculate_average(10,20,30)\n",
        "avg2=calculate_average(5,15,25,35,45)\n",
        "print(avg1)\n",
        "print(avg2)"
      ]
    },
    {
      "cell_type": "code",
      "execution_count": null,
      "metadata": {
        "id": "OLrPLY_cVP-t"
      },
      "outputs": [],
      "source": [
        "def process_queue():\n",
        "  queue=[\"Task 1\", \"Task 2\", \"Task 3\", \"Task4\"]\n",
        "  while len(queue)!=0:\n",
        "    current_task=queue.pop(0)\n",
        "    print(\"processing:\",current_task)\n",
        "    print(\"reamining task:\",len(queue))\n",
        "  print(\"all task are completed!\")\n",
        "process_queue()"
      ]
    },
    {
      "cell_type": "code",
      "execution_count": null,
      "metadata": {
        "id": "-MCvPlYnY-rd"
      },
      "outputs": [],
      "source": [
        "import random\n",
        "def process_queue_random():\n",
        "  queue=[\"Task 1\", \"Task 2\", \"Task 3\", \"Task 4\"]\n",
        "  while len(queue)!=0:\n",
        "    random_index = random.randint(0,len(queue)-1)\n",
        "    current_task = queue.pop(random_index)\n",
        "    print(\"processing:\",current_task)\n",
        "    print(\"reamining task:\",len(queue))\n",
        "  print(\"all task are completed!\")\n",
        "process_queue_random()"
      ]
    },
    {
      "cell_type": "code",
      "execution_count": null,
      "metadata": {
        "id": "hwFfOghlalTt"
      },
      "outputs": [],
      "source": [
        "def simple_guessing_game():\n",
        "  target=7\n",
        "  guess=0\n",
        "  attempts=0\n",
        "  print(\"guess the number between 1 and 10!\")\n",
        "  while guess!=target and attempts!=15:\n",
        "    import random\n",
        "    guess=random.randint(1,10)\n",
        "    attempts+=1\n",
        "    if guess==target:\n",
        "      print(\"correct\")\n",
        "      break\n",
        "  print(f\"game finished in {attempts} attempts\")\n",
        "simple_guessing_game()"
      ]
    },
    {
      "cell_type": "code",
      "execution_count": null,
      "metadata": {
        "id": "wAqK2T7ReE8z"
      },
      "outputs": [],
      "source": [
        "import numpy as np\n",
        "\n",
        "# Creating a rank 1 Array\n",
        "arr = np.array([4, 5, 6])\n",
        "print(arr)\n",
        "\n",
        "# Creating a rank 2 Array\n",
        "arr = np.array([[7, 8, 9],\n",
        "                [4, 5, 6]])\n",
        "print(arr)\n",
        "\n",
        "# Creating an array from tuple\n",
        "arr = np.array((3, 2, 1))\n",
        "print(arr)"
      ]
    },
    {
      "cell_type": "code",
      "execution_count": null,
      "metadata": {
        "id": "KPttV5w5AXda"
      },
      "outputs": [],
      "source": [
        "#indexing\n",
        "import numpy as np\n",
        "\n",
        "arr = np.array([[-1, 2, 0, 4],\n",
        "                [4, -0.5, 6, 0],\n",
        "                [2.6, 0, 7, 8],\n",
        "                [3, -7, 4, 2.0]])\n",
        "\n",
        "arr2 = arr[:2, ::2]\n",
        "print (\"first 2 rows and alternate columns(0 and 2):\\n\", arr2)\n",
        "\n",
        "arr3 = arr[[1, 1, 0, 3],\n",
        "                [3, 2, 1, 0]]\n",
        "print (\"\\nElements at indices (1, 3), \"\n",
        "    \"(1, 2), (0, 1), (3, 0):\\n\", arr3)"
      ]
    },
    {
      "cell_type": "code",
      "execution_count": null,
      "metadata": {
        "id": "e-RpOfsPCu6C"
      },
      "outputs": [],
      "source": [
        "#operations on numpy\n",
        "import numpy as np\n",
        "\n",
        "a = np.array([[1, 2, 3],\n",
        "              [4, 5, 6]])\n",
        "\n",
        "b = np.array([[6, 5, 4],\n",
        "              [4, 2, 1]])\n",
        "\n",
        "print (\"Adding 3 to every element:\", a + 3)\n",
        "print (\"\\nSubtracting 3 from each element:\", b - 3)\n",
        "print (\"\\nmultiplying 3 from each element:\", b * 3)\n",
        "print (\"\\nSum of all array elements: \", a.sum())"
      ]
    },
    {
      "cell_type": "code",
      "execution_count": null,
      "metadata": {
        "id": "aH1du7VbFoxi"
      },
      "outputs": [],
      "source": [
        "#reshaping\n",
        "import numpy as np\n",
        "array = np.array([1, 2, 3, 4, 5, 6, 7, 8, 9, 10, 11, 12, 13, 14, 15, 16,17,18,19,20])\n",
        "print(\"Array : \" + str(array))\n",
        "n = array.size\n",
        "N=4\n",
        "M =5\n",
        "reshaped1 = array.reshape((N, M))\n",
        "print(\"First Reshaped Array : \")\n",
        "print(reshaped1)\n",
        "reshaped2 = np.reshape(array, (5, 4))\n",
        "print(\"Second Reshaped Array : \")\n",
        "print(reshaped2)"
      ]
    },
    {
      "cell_type": "code",
      "execution_count": null,
      "metadata": {
        "id": "J4aLNL0WaHMJ"
      },
      "outputs": [],
      "source": [
        "import pandas as pd\n",
        "data={\n",
        "    'name':['Alice', 'Bob', 'Charlie', 'David','Eva'],\n",
        "    'age':[25, 30, 35, 40, 22],\n",
        "    'department':['sales', 'engineering', 'Hr', 'engineering', 'sales'],\n",
        "    'salary':[50000, 60000, 55000, 70000, 52000]\n",
        "}\n",
        "df=pd.DataFrame(data)\n",
        "print(df)"
      ]
    },
    {
      "cell_type": "code",
      "execution_count": null,
      "metadata": {
        "id": "IbvRK20T5VEf"
      },
      "outputs": [],
      "source": [
        "\n",
        "print(\"last 2 rows:\")\n",
        "df.tail(2)"
      ]
    },
    {
      "cell_type": "code",
      "execution_count": null,
      "metadata": {
        "id": "V9qi1TzS5nWO"
      },
      "outputs": [],
      "source": [
        "print(\"column names:\")\n",
        "df.columns"
      ]
    },
    {
      "cell_type": "code",
      "execution_count": null,
      "metadata": {
        "id": "Tx3roWFg5zhW"
      },
      "outputs": [],
      "source": [
        "print(\"describe numerical columns:\")\n",
        "df.describe()"
      ]
    },
    {
      "cell_type": "code",
      "execution_count": null,
      "metadata": {
        "id": "TAkNCIXU6FGP"
      },
      "outputs": [],
      "source": [
        "print(\"people with salary > 50000:\")\n",
        "df[df['salary']>50000]"
      ]
    },
    {
      "cell_type": "code",
      "execution_count": null,
      "metadata": {
        "id": "rIhoZq7C6W3F"
      },
      "outputs": [],
      "source": [
        "print(\"sorted by age:\")\n",
        "df.sort_values(by='age')"
      ]
    },
    {
      "cell_type": "code",
      "execution_count": null,
      "metadata": {
        "id": "TbmbJ-AW6jDG"
      },
      "outputs": [],
      "source": [
        "grouped = df.groupby('department')['salary'].mean()\n",
        "grouped"
      ]
    },
    {
      "cell_type": "code",
      "execution_count": null,
      "metadata": {
        "id": "ajT2_ssB7kou"
      },
      "outputs": [],
      "source": [
        "df['salary in lakhs'] = df['salary']/100000\n",
        "df"
      ]
    },
    {
      "cell_type": "code",
      "execution_count": null,
      "metadata": {
        "id": "SwBRGeAh8Jc_"
      },
      "outputs": [],
      "source": [
        "import matplotlib.pyplot as plt\n",
        "years=[2019, 2020, 2021, 2022]\n",
        "revenue=[100, 120, 130, 160]\n",
        "plt.plot(years, revenue, marker='o', linestyle='-', color='blue')\n",
        "plt.xlabel('Years')\n",
        "plt.ylabel('Revenue (in crores)')\n",
        "plt.grid(True)\n",
        "plt.title('Company Revenue Over the Years')\n",
        "plt.show()"
      ]
    },
    {
      "cell_type": "code",
      "execution_count": null,
      "metadata": {
        "id": "ErDZkBSC-rbv"
      },
      "outputs": [],
      "source": [
        "df"
      ]
    },
    {
      "cell_type": "code",
      "execution_count": null,
      "metadata": {
        "id": "W2TkJolW_eHR"
      },
      "outputs": [],
      "source": [
        "department = df['department'].value_counts()\n",
        "print(department)\n",
        "department.plot(kind='bar',color='teal')\n",
        "plt.xlabel('Department')\n",
        "plt.ylabel('Count')\n",
        "plt.title('Employee count by Department')\n",
        "plt.show()"
      ]
    },
    {
      "cell_type": "code",
      "execution_count": null,
      "metadata": {
        "id": "KVIGgEG1BCBW"
      },
      "outputs": [],
      "source": [
        "ages= df['age']\n",
        "print(ages)\n",
        "plt.hist(ages, bins=5, color='coral', edgecolor='black')\n",
        "plt.xlabel('Age')\n",
        "plt.ylabel('Frequency')\n",
        "plt.title('Age Distribution')\n",
        "plt.show()"
      ]
    },
    {
      "cell_type": "code",
      "execution_count": null,
      "metadata": {
        "id": "f1a4YJRRB8Mv"
      },
      "outputs": [],
      "source": [
        "df.groupby('department').size().plot(kind='pie',autopct='%1.1f%%')\n",
        "plt.ylabel(\"\")\n",
        "plt.title('Department proportion')\n",
        "plt.show()"
      ]
    },
    {
      "cell_type": "code",
      "execution_count": null,
      "metadata": {
        "id": "x6WCXYQO1e4_"
      },
      "outputs": [],
      "source": [
        "import seaborn as sns\n",
        "tips=sns.load_dataset('tips')\n",
        "tips"
      ]
    },
    {
      "cell_type": "code",
      "execution_count": null,
      "metadata": {
        "id": "BxcmFWKd79so"
      },
      "outputs": [],
      "source": [
        "print(\"\\nInfo about the tips dataset:\")\n",
        "tips.info()\n",
        "print(\"\\ndescription of the tips dataset:\")\n",
        "tips.describe(include='all')"
      ]
    },
    {
      "cell_type": "code",
      "execution_count": null,
      "metadata": {
        "id": "IF31kudb8sTf"
      },
      "outputs": [],
      "source": [
        "sns.pairplot(tips,hue='time')\n",
        "plt.show()"
      ]
    },
    {
      "cell_type": "code",
      "execution_count": null,
      "metadata": {
        "id": "4Q1GPICb-gfB"
      },
      "outputs": [],
      "source": [
        "corr=tips.corr(numeric_only=True)\n",
        "sns.heatmap(corr,annot=True, cmap=\"coolwarm\")\n",
        "plt.title(\"correlation matrix\")\n",
        "plt.show()"
      ]
    },
    {
      "cell_type": "code",
      "execution_count": null,
      "metadata": {
        "id": "-ZgzKnwl_sgX"
      },
      "outputs": [],
      "source": [
        "sns.countplot(x=\"day\",data=tips,palette='pastel',hue='day')\n",
        "plt.title(\"count of records by days\")\n",
        "plt.show()"
      ]
    },
    {
      "cell_type": "code",
      "execution_count": null,
      "metadata": {
        "id": "gHmGjUT6EtMv"
      },
      "outputs": [],
      "source": [
        "sns.boxplot(hue=\"day\",y=\"total_bill\", palette='muted',data=tips)\n",
        "plt.title(\"boxplot of total bill by day\")\n",
        "plt.show()"
      ]
    },
    {
      "cell_type": "code",
      "execution_count": null,
      "metadata": {
        "id": "aeQR3O3XLpbI"
      },
      "outputs": [],
      "source": [
        "import pandas as pd\n",
        "data={\n",
        "    'name':['Alice', 'Bob', 'Charlie', 'David','Eva'],\n",
        "    'age':[25, 30, 35, 40, 22],\n",
        "    'department':['sales', 'engineering', 'Hr', 'engineering', 'sales'],\n",
        "    'salary':[50000, 60000, 55000, 70000, 52000]\n",
        "}\n",
        "titanic=pd.DataFrame(data)\n",
        "print(titanic)"
      ]
    },
    {
      "cell_type": "code",
      "execution_count": null,
      "metadata": {
        "id": "Wh4W9xGUL6Z_"
      },
      "outputs": [],
      "source": [
        "print(\"last 2 rows:\")\n",
        "titanic.tail(2)"
      ]
    },
    {
      "cell_type": "code",
      "execution_count": null,
      "metadata": {
        "id": "n8jl8DCaMF22"
      },
      "outputs": [],
      "source": [
        "print(\"last 2 rows:\")\n",
        "titanic.tail(2)"
      ]
    },
    {
      "cell_type": "code",
      "execution_count": null,
      "metadata": {
        "id": "mr63MhbzMRfn"
      },
      "outputs": [],
      "source": [
        "print(\"describe numerical columns:\")\n",
        "titanic.describe()"
      ]
    },
    {
      "cell_type": "code",
      "execution_count": null,
      "metadata": {
        "id": "s_nR2A6NMaaI"
      },
      "outputs": [],
      "source": [
        "print(\"people with salary > 50000:\")\n",
        "titanic[titanic['salary']>50000]"
      ]
    },
    {
      "cell_type": "code",
      "execution_count": null,
      "metadata": {
        "id": "I7wXOVh-MguO"
      },
      "outputs": [],
      "source": [
        "print(\"sorted by age:\")\n",
        "titanic.sort_values(by='age')"
      ]
    },
    {
      "cell_type": "code",
      "execution_count": null,
      "metadata": {
        "id": "o2G4RZFSMs3_"
      },
      "outputs": [],
      "source": [
        "grouped = titanic.groupby('department')['salary'].mean()\n",
        "grouped"
      ]
    },
    {
      "cell_type": "code",
      "execution_count": null,
      "metadata": {
        "id": "NWgSMw_sM_k4"
      },
      "outputs": [],
      "source": [
        "titanic['salary in lakhs'] = titanic['salary']/100000\n",
        "titanic"
      ]
    },
    {
      "cell_type": "code",
      "execution_count": null,
      "metadata": {
        "id": "6VnLtjFpNGsw"
      },
      "outputs": [],
      "source": [
        "import matplotlib.pyplot as plt\n",
        "years=[2019, 2020, 2021, 2022]\n",
        "revenue=[100, 120, 130, 160]\n",
        "plt.plot(years, revenue, marker='o', linestyle='-', color='blue')\n",
        "plt.xlabel('Years')\n",
        "plt.ylabel('Revenue (in crores)')\n",
        "plt.grid(True)\n",
        "plt.title('Company Revenue Over the Years')\n",
        "plt.show()"
      ]
    },
    {
      "cell_type": "code",
      "execution_count": null,
      "metadata": {
        "id": "EcwcpLcjNm0I"
      },
      "outputs": [],
      "source": [
        "department = titanic['department'].value_counts()\n",
        "print(department)\n",
        "department.plot(kind='bar',color='teal')\n",
        "plt.xlabel('Department')\n",
        "plt.ylabel('Count')\n",
        "plt.title('Employee count by Department')\n",
        "plt.show()"
      ]
    },
    {
      "cell_type": "code",
      "execution_count": null,
      "metadata": {
        "id": "pPB5AFasN1Qf"
      },
      "outputs": [],
      "source": [
        "ages= titanic['age']\n",
        "print(ages)\n",
        "plt.hist(ages, bins=5, color='coral', edgecolor='black')\n",
        "plt.xlabel('Age')\n",
        "plt.ylabel('Frequency')\n",
        "plt.title('Age Distribution')\n",
        "plt.show()"
      ]
    },
    {
      "cell_type": "code",
      "execution_count": null,
      "metadata": {
        "id": "ZJDZsM5ZOMph"
      },
      "outputs": [],
      "source": [
        "titanic.groupby('department').size().plot(kind='pie',autopct='%1.1f%%')\n",
        "plt.ylabel(\"\")\n",
        "plt.title('Department proportion')\n",
        "plt.show()"
      ]
    },
    {
      "cell_type": "code",
      "execution_count": null,
      "metadata": {
        "id": "cksZvdJLOXm4"
      },
      "outputs": [],
      "source": [
        "import seaborn as sns\n",
        "titanic=sns.load_dataset('titanic')\n",
        "titanic"
      ]
    },
    {
      "cell_type": "code",
      "execution_count": null,
      "metadata": {
        "id": "s7kVCMAWOqG3"
      },
      "outputs": [],
      "source": [
        "print(\"\\nInfo about the tips dataset:\")\n",
        "titanic.info()\n",
        "print(\"\\ndescription of the tips dataset:\")\n",
        "titanic.describe(include='all')"
      ]
    },
    {
      "cell_type": "code",
      "execution_count": null,
      "metadata": {
        "id": "Tc5JWCy-PH95"
      },
      "outputs": [],
      "source": [
        "sns.pairplot(titanic,hue='age')\n",
        "plt.show()"
      ]
    },
    {
      "cell_type": "code",
      "execution_count": null,
      "metadata": {
        "id": "YH2nl7EsPdyn"
      },
      "outputs": [],
      "source": [
        "corr=titanic.corr(numeric_only=True)\n",
        "sns.heatmap(corr,annot=True, cmap=\"coolwarm\")\n",
        "plt.title(\"correlation matrix\")\n",
        "plt.show()"
      ]
    },
    {
      "cell_type": "code",
      "execution_count": null,
      "metadata": {
        "id": "-I-yrP2wPt8O"
      },
      "outputs": [],
      "source": [
        "sns.countplot(x=\"age\",data=titanic)\n",
        "plt.title(\"count of records by age\")\n",
        "plt.show()"
      ]
    },
    {
      "cell_type": "code",
      "execution_count": null,
      "metadata": {
        "id": "LpwzR2f0QBmX"
      },
      "outputs": [],
      "source": [
        "sns.boxplot(x=\"age\",y=\"class\",data=titanic)\n",
        "plt.title(\"boxplot of class by day\")\n",
        "plt.show()"
      ]
    },
    {
      "cell_type": "code",
      "execution_count": null,
      "metadata": {
        "id": "397NQ8yiRj6A"
      },
      "outputs": [],
      "source": [
        "titanic.info()"
      ]
    },
    {
      "cell_type": "code",
      "execution_count": null,
      "metadata": {
        "id": "4sT4haHtR1IF"
      },
      "outputs": [],
      "source": [
        "titanic.describe()"
      ]
    },
    {
      "cell_type": "code",
      "execution_count": null,
      "metadata": {
        "id": "wLANRAiQSTK3"
      },
      "outputs": [],
      "source": [
        "titanic.isnull().sum()"
      ]
    },
    {
      "cell_type": "code",
      "execution_count": null,
      "metadata": {
        "id": "ZSRdAscMSiLP"
      },
      "outputs": [],
      "source": [
        "titanic.sort_values(by='age')"
      ]
    },
    {
      "cell_type": "code",
      "execution_count": null,
      "metadata": {
        "id": "CpCtJ3QaTPJu"
      },
      "outputs": [],
      "source": [
        "grouped=titanic.groupby('class')['fare'].mean()\n",
        "grouped"
      ]
    },
    {
      "cell_type": "markdown",
      "metadata": {
        "id": "GaCv3fDbP_pW"
      },
      "source": []
    },
    {
      "cell_type": "code",
      "execution_count": null,
      "metadata": {
        "id": "cd1755f1"
      },
      "outputs": [],
      "source": [
        "import matplotlib.pyplot as plt\n",
        "plt.figure(figsize=(10, 6))\n",
        "plt.plot(titanic['age'], titanic['fare'], marker='o', linestyle='-', alpha=0.5)\n",
        "plt.title('Fare vs Age on Titanic')\n",
        "plt.xlabel('Age')\n",
        "plt.ylabel('Fare')\n",
        "plt.grid(True)\n",
        "plt.show()"
      ]
    },
    {
      "cell_type": "code",
      "execution_count": null,
      "metadata": {
        "id": "i0SaL8vwl1bw"
      },
      "outputs": [],
      "source": [
        "import matplotlib.pyplot as plt\n",
        "a=titanic['age']\n",
        "b=titanic[\"alive\"]\n",
        "plt.plot(a,b,marker='o')\n",
        "plt.xlabel(\"age\")\n",
        "plt.ylabel(\"alive\")\n",
        "plt.title(\"survival\")\n",
        "plt.show()"
      ]
    },
    {
      "cell_type": "code",
      "execution_count": null,
      "metadata": {
        "id": "mv39Znfal3J_"
      },
      "outputs": [],
      "source": [
        "import matplotlib.pyplot as plt\n",
        "titanic.groupby('class').size().plot(kind='pie',autopct='%1.1f%%')\n",
        "plt.title(\"class\")\n",
        "plt.show()"
      ]
    },
    {
      "cell_type": "code",
      "execution_count": null,
      "metadata": {
        "id": "QBT9PUh7l8t2"
      },
      "outputs": [],
      "source": [
        "ages=titanic['age']\n",
        "print(ages)\n",
        "plt.hist(ages,bins=5,color='orange',edgecolor='black')\n",
        "plt.title(\"Age distribution\")\n",
        "plt.xlabel(\"Age\")\n",
        "plt.ylabel(\"Frequency\")\n",
        "plt.show()"
      ]
    },
    {
      "cell_type": "code",
      "execution_count": null,
      "metadata": {
        "id": "RPGv05qCl8IP"
      },
      "outputs": [],
      "source": [
        "a=titanic['class'].value_counts()\n",
        "print(a)\n",
        "a.plot(kind='bar',color='blue')\n",
        "plt.title(\"class range\")\n",
        "plt.xlabel(\"class\")\n",
        "plt.ylabel(\"range\")\n",
        "plt.show()"
      ]
    },
    {
      "cell_type": "code",
      "execution_count": null,
      "metadata": {
        "id": "9sILW-Hlmviv"
      },
      "outputs": [],
      "source": [
        "import seaborn as sn\n",
        "iris=sns.load_dataset('iris')\n",
        "iris\n"
      ]
    },
    {
      "cell_type": "code",
      "execution_count": null,
      "metadata": {
        "id": "Ld8TUB3bm7yv"
      },
      "outputs": [],
      "source": [
        "print(\"\\nInfo about the tips dataset:\")\n",
        "iris.info()\n",
        "print(\"\\ndescription of the tips dataset:\")\n",
        "iris.describe(include='all')"
      ]
    },
    {
      "cell_type": "code",
      "execution_count": null,
      "metadata": {
        "id": "MnrINk5BnfhY"
      },
      "outputs": [],
      "source": [
        "sns.pairplot(iris,hue='sepal_length')\n",
        "plt.show()"
      ]
    },
    {
      "cell_type": "code",
      "execution_count": null,
      "metadata": {
        "id": "rpJ2Kwb-nfqO"
      },
      "outputs": [],
      "source": [
        "corr=iris.corr(numeric_only=True)\n",
        "sns.heatmap(corr,annot=True, cmap=\"coolwarm\")\n",
        "plt.title(\"correlation matrix\")\n",
        "plt.show()"
      ]
    },
    {
      "cell_type": "code",
      "execution_count": null,
      "metadata": {
        "id": "sZcZfM8Hnf1f"
      },
      "outputs": [],
      "source": [
        "sns.countplot(x=\"sepal_width\",data=iris)\n",
        "plt.title(\"count of records by age\")\n",
        "plt.show()"
      ]
    },
    {
      "cell_type": "code",
      "execution_count": null,
      "metadata": {
        "id": "kRadhXF8onR_"
      },
      "outputs": [],
      "source": [
        "sns.boxplot(x=\"sepal_width\",y=\"sepal_length\",data=iris)\n",
        "plt.title(\"boxplot of sepal_width by day\")\n",
        "plt.show()"
      ]
    },
    {
      "cell_type": "code",
      "execution_count": null,
      "metadata": {
        "id": "2Kv9eEbZonXI"
      },
      "outputs": [],
      "source": [
        "iris.info()"
      ]
    },
    {
      "cell_type": "code",
      "execution_count": null,
      "metadata": {
        "id": "ezulrz8Vonb-"
      },
      "outputs": [],
      "source": [
        "iris.describe()"
      ]
    },
    {
      "cell_type": "code",
      "execution_count": null,
      "metadata": {
        "id": "MFoGUvOboni1"
      },
      "outputs": [],
      "source": [
        "iris.isnull().sum()"
      ]
    },
    {
      "cell_type": "code",
      "execution_count": null,
      "metadata": {
        "id": "jOAQBNWzonnG"
      },
      "outputs": [],
      "source": [
        "iris.sort_values(by='sepal_length')"
      ]
    },
    {
      "cell_type": "code",
      "execution_count": null,
      "metadata": {
        "id": "KxmBAOAeonsW"
      },
      "outputs": [],
      "source": [
        "iris.sort_values(by='sepal_width')"
      ]
    },
    {
      "cell_type": "code",
      "execution_count": null,
      "metadata": {
        "id": "qQz0KoijpTpw"
      },
      "outputs": [],
      "source": [
        "grouped=iris.groupby('species')['petal_width'].mean()\n",
        "grouped"
      ]
    },
    {
      "cell_type": "code",
      "execution_count": null,
      "metadata": {
        "id": "LakcZezvrxc5"
      },
      "outputs": [],
      "source": [
        "import pandas as pd\n",
        "data={\n",
        "    'name':['Alice', 'Bob', 'Charlie', 'David','Eva'],\n",
        "    'age':[25, 30, 35, 40, 22],\n",
        "    'department':['sales', 'engineering', 'Hr', 'engineering', 'sales'],\n",
        "    'salary':[50000, 60000, 55000, 70000, 52000]\n",
        "}\n",
        "iris=pd.DataFrame(data)\n",
        "print(iris)"
      ]
    },
    {
      "cell_type": "code",
      "execution_count": null,
      "metadata": {
        "id": "oXVO2UaPqHiu"
      },
      "outputs": [],
      "source": [
        "print(\"last 2 rows:\")\n",
        "iris.tail(2)"
      ]
    },
    {
      "cell_type": "code",
      "execution_count": null,
      "metadata": {
        "id": "zhK61HolqHoZ"
      },
      "outputs": [],
      "source": [
        "print(\"column 2 rows:\")\n",
        "iris.columns"
      ]
    },
    {
      "cell_type": "code",
      "execution_count": null,
      "metadata": {
        "id": "GJYkcqvrqH5n"
      },
      "outputs": [],
      "source": [
        "print(\"distribution of numerical columns:\")\n",
        "iris.describe()"
      ]
    },
    {
      "cell_type": "code",
      "execution_count": null,
      "metadata": {
        "id": "DdkJkM1GtHkZ"
      },
      "outputs": [],
      "source": [
        "print(\"people with salary > 50000:\")\n",
        "iris[iris['salary']>50000]"
      ]
    },
    {
      "cell_type": "code",
      "execution_count": null,
      "metadata": {
        "id": "W6eoXTtXtcV_"
      },
      "outputs": [],
      "source": [
        "print(\"sorted by age:\")\n",
        "iris.sort_values(by='age')"
      ]
    },
    {
      "cell_type": "code",
      "execution_count": null,
      "metadata": {
        "id": "cd3YwqjLtcaD"
      },
      "outputs": [],
      "source": [
        "import matplotlib.pyplot as plt\n",
        "import seaborn as sns\n",
        "iris = sns.load_dataset('iris')\n",
        "a=iris['sepal_length']\n",
        "b=iris['sepal_width']\n",
        "plt.plot(a,b,marker='o')\n",
        "plt.xlabel(\"sepal_length\")\n",
        "plt.ylabel(\"sepal_width\")\n",
        "plt.title(\"survival\")\n",
        "plt.grid(\"True\")\n",
        "plt.show()"
      ]
    },
    {
      "cell_type": "code",
      "execution_count": null,
      "metadata": {
        "id": "WD3AEVIztcd2"
      },
      "outputs": [],
      "source": [
        "import matplotlib.pyplot as plt\n",
        "iris.groupby('species').size().plot(kind='pie',autopct='%1.1f%%')\n",
        "plt.title(\"species\")\n",
        "plt.show()"
      ]
    },
    {
      "cell_type": "code",
      "execution_count": null,
      "metadata": {
        "id": "UBbMW84Iwax_"
      },
      "outputs": [],
      "source": [
        "species=iris['species']\n",
        "print(species)\n",
        "plt.hist(ages,bins=5,color='orange',edgecolor='black')\n",
        "plt.title(\"species distribution\")\n",
        "plt.xlabel(\"species\")\n",
        "plt.ylabel(\"Frequency\")\n",
        "plt.show()"
      ]
    },
    {
      "cell_type": "code",
      "execution_count": null,
      "metadata": {
        "id": "LD4i6pB4wa15"
      },
      "outputs": [],
      "source": [
        "a=iris['species'].value_counts()\n",
        "print(a)\n",
        "a.plot(kind='bar',color='blue')\n",
        "plt.title(\"species range\")\n",
        "plt.xlabel(\"species\")\n",
        "plt.ylabel(\"range\")\n",
        "plt.show()"
      ]
    },
    {
      "cell_type": "code",
      "execution_count": null,
      "metadata": {
        "id": "7ETnsHBd7R32"
      },
      "outputs": [],
      "source": [
        "import pandas as pd\n",
        "df=pd.read_csv ('https://raw.githubusercontent.com/datasciencedojo/datasets/master/titanic.csv')\n",
        "df"
      ]
    },
    {
      "cell_type": "code",
      "execution_count": null,
      "metadata": {
        "id": "QJKfd_4S74MX"
      },
      "outputs": [],
      "source": [
        "df.isnull().sum()"
      ]
    },
    {
      "cell_type": "code",
      "execution_count": null,
      "metadata": {
        "id": "HG0ELg-f8Eko"
      },
      "outputs": [],
      "source": [
        "df.info()"
      ]
    },
    {
      "cell_type": "code",
      "execution_count": null,
      "metadata": {
        "id": "zRJ0DzaT8EtG"
      },
      "outputs": [],
      "source": [
        "df[df.isnull().any(axis=1)]"
      ]
    },
    {
      "cell_type": "code",
      "execution_count": null,
      "metadata": {
        "id": "E2Q_ML7I8Exg"
      },
      "outputs": [],
      "source": [
        "df.iloc[1]"
      ]
    },
    {
      "cell_type": "code",
      "execution_count": null,
      "metadata": {
        "id": "69E-dbNe8E2X"
      },
      "outputs": [],
      "source": [
        "df[['Age','Fare']]"
      ]
    },
    {
      "cell_type": "code",
      "execution_count": null,
      "metadata": {
        "id": "_FQ7Ky9I9_du"
      },
      "outputs": [],
      "source": [
        "df.drop(columns= ['Age'], inplace=True)"
      ]
    },
    {
      "cell_type": "code",
      "execution_count": null,
      "metadata": {
        "id": "DcayCp5e-KiA"
      },
      "outputs": [],
      "source": [
        "df.info()"
      ]
    },
    {
      "cell_type": "code",
      "execution_count": null,
      "metadata": {
        "id": "9SfxN_Ev-m_R"
      },
      "outputs": [],
      "source": [
        "df.dropna(subset=['Embarked'],inplace=True)"
      ]
    },
    {
      "cell_type": "code",
      "execution_count": null,
      "metadata": {
        "id": "_zQP7wZI_jCv"
      },
      "outputs": [],
      "source": [
        "df['Age'].fillna(df['Age'].mean(),inplace=True)\n",
        "df['Age'].fillna(df['Age'].median(),inplace=True)\n",
        "df['Embarked'].fillna(df['Embarked'].mode()[0],inplace=True)\n",
        "df"
      ]
    },
    {
      "cell_type": "code",
      "execution_count": null,
      "metadata": {
        "id": "xXJMYxj_CMBH"
      },
      "outputs": [],
      "source": [
        "df"
      ]
    },
    {
      "cell_type": "code",
      "execution_count": null,
      "metadata": {
        "id": "uLmfUv5RGbRm"
      },
      "outputs": [],
      "source": [
        "df = pd.get_dummies(df, columns=['Ticket'], drop_first=True)\n",
        "df"
      ]
    },
    {
      "cell_type": "code",
      "execution_count": null,
      "metadata": {
        "id": "1nUxV9mrI4YY"
      },
      "outputs": [],
      "source": [
        "df = pd.get_dummies(df, columns=['Cabin'], drop_first=True)\n",
        "df"
      ]
    },
    {
      "cell_type": "code",
      "execution_count": null,
      "metadata": {
        "id": "-TXkEsz3JNlJ"
      },
      "outputs": [],
      "source": [
        "df = pd.get_dummies(df, columns=['Embarked'], drop_first=True)\n",
        "df"
      ]
    },
    {
      "cell_type": "code",
      "execution_count": null,
      "metadata": {
        "id": "MbeD8nvnCUZP"
      },
      "outputs": [],
      "source": [
        "from sklearn.preprocessing import LabelEncoder\n",
        "le=LabelEncoder()\n",
        "df['Sex']=le.fit_transform(df['Sex'])\n",
        "df"
      ]
    },
    {
      "cell_type": "code",
      "execution_count": null,
      "metadata": {
        "id": "UWQtfjalIKhw"
      },
      "outputs": [],
      "source": [
        "from sklearn.preprocessing import StandardScaler\n",
        "scaler=StandardScaler()\n",
        "df= scaler.fit_transform(df)"
      ]
    },
    {
      "cell_type": "code",
      "execution_count": null,
      "metadata": {
        "id": "j85u77vuKcRK"
      },
      "outputs": [],
      "source": [
        "df = pd.get_dummies(df, columns=['Name'], drop_first=True)\n",
        "df"
      ]
    },
    {
      "cell_type": "code",
      "execution_count": null,
      "metadata": {
        "id": "fbHqfFKTGN93"
      },
      "outputs": [],
      "source": [
        "df"
      ]
    },
    {
      "cell_type": "code",
      "execution_count": null,
      "metadata": {
        "id": "iH2CKBOqK50H"
      },
      "outputs": [],
      "source": [
        "from sklearn.preprocessing import StandardScaler\n",
        "scaler=StandardScaler()\n",
        "df= scaler.fit_transform(df)"
      ]
    },
    {
      "cell_type": "code",
      "execution_count": null,
      "metadata": {
        "id": "DFcaFMJ-K_eG"
      },
      "outputs": [],
      "source": [
        "df"
      ]
    },
    {
      "cell_type": "code",
      "execution_count": null,
      "metadata": {
        "id": "pl7n8MXVL2Dx"
      },
      "outputs": [],
      "source": [
        "import seaborn as sn\n",
        "penguin=sns.load_dataset('penguins')\n",
        "penguin\n"
      ]
    },
    {
      "cell_type": "code",
      "execution_count": null,
      "metadata": {
        "id": "RI7Y2uvNMmYQ"
      },
      "outputs": [],
      "source": [
        "print(\"\\nInfo about the tips dataset:\")\n",
        "penguin.info()\n",
        "print(\"\\ndescription of the tips dataset:\")\n",
        "penguin.describe(include='all')"
      ]
    },
    {
      "cell_type": "code",
      "execution_count": null,
      "metadata": {
        "id": "5usDeEsWNK9w"
      },
      "outputs": [],
      "source": [
        "sns.pairplot(penguin,hue='species')\n",
        "plt.show()"
      ]
    },
    {
      "cell_type": "code",
      "execution_count": null,
      "metadata": {
        "id": "uLKoB7nNNLGY"
      },
      "outputs": [],
      "source": [
        "corr=penguin.corr(numeric_only=True)\n",
        "sns.heatmap(corr,annot=True, cmap=\"coolwarm\")\n",
        "plt.title(\"correlation matrix\")\n",
        "plt.show()"
      ]
    },
    {
      "cell_type": "code",
      "execution_count": null,
      "metadata": {
        "id": "9Iy25antNbFv"
      },
      "outputs": [],
      "source": [
        "sns.countplot(x=\"species\",data=penguin)\n",
        "plt.title(\"count of records by age\")\n",
        "plt.show()"
      ]
    },
    {
      "cell_type": "code",
      "execution_count": null,
      "metadata": {
        "id": "YCOHCn5UNgyQ"
      },
      "outputs": [],
      "source": [
        "sns.boxplot(x=\"species\",y=\"bill_length_mm\",data=penguin)\n",
        "plt.title(\"boxplot of species by day\")\n",
        "plt.show()"
      ]
    },
    {
      "cell_type": "code",
      "execution_count": null,
      "metadata": {
        "id": "2u4wD4FoNg3H"
      },
      "outputs": [],
      "source": [
        "penguin.info()"
      ]
    },
    {
      "cell_type": "code",
      "execution_count": null,
      "metadata": {
        "id": "hnclKNK4NpGh"
      },
      "outputs": [],
      "source": [
        "penguin.describe()"
      ]
    },
    {
      "cell_type": "code",
      "execution_count": null,
      "metadata": {
        "id": "XurnAna-Ns5p"
      },
      "outputs": [],
      "source": [
        "penguin.isnull().sum()"
      ]
    },
    {
      "cell_type": "code",
      "execution_count": null,
      "metadata": {
        "id": "9YgtmYSsNw6I"
      },
      "outputs": [],
      "source": [
        "penguin.sort_values(by='bill_length_mm')"
      ]
    },
    {
      "cell_type": "code",
      "execution_count": null,
      "metadata": {
        "id": "kqRuz1OoNw-Z"
      },
      "outputs": [],
      "source": [
        "grouped=penguin.groupby('species')['bill_depth_mm'].mean()\n",
        "grouped"
      ]
    },
    {
      "cell_type": "code",
      "execution_count": null,
      "metadata": {
        "id": "2w4GC0dcNxEK"
      },
      "outputs": [],
      "source": [
        "import matplotlib.pyplot as plt\n",
        "a=penguin['species']\n",
        "b=penguin[\"bill_length_mm\"]\n",
        "plt.plot(a,b,marker='o')\n",
        "plt.xlabel(\"species\")\n",
        "plt.ylabel(\"bill_length_mm\")\n",
        "plt.title(\"survival\")\n",
        "plt.show()"
      ]
    },
    {
      "cell_type": "code",
      "execution_count": null,
      "metadata": {
        "id": "9Mn7WkB2NxI5"
      },
      "outputs": [],
      "source": [
        "import matplotlib.pyplot as plt\n",
        "penguin.groupby('species').size().plot(kind='pie',autopct='%1.1f%%')\n",
        "plt.title(\"species\")\n",
        "plt.show()"
      ]
    },
    {
      "cell_type": "code",
      "execution_count": null,
      "metadata": {
        "id": "riQIrRxXOiXH"
      },
      "outputs": [],
      "source": [
        "species=penguin['species']\n",
        "print(species)\n",
        "plt.hist(species,bins=5,color='orange',edgecolor='black')\n",
        "plt.title(\"species distribution\")\n",
        "plt.xlabel(\"species\")\n",
        "plt.ylabel(\"Frequency\")\n",
        "plt.show()"
      ]
    },
    {
      "cell_type": "code",
      "execution_count": null,
      "metadata": {
        "id": "bcVkn8hcOieR"
      },
      "outputs": [],
      "source": [
        "a=penguin['species'].value_counts()\n",
        "print(a)\n",
        "a.plot(kind='bar',color='blue')\n",
        "plt.title(\"species range\")\n",
        "plt.xlabel(\"species\")\n",
        "plt.ylabel(\"range\")\n",
        "plt.show()"
      ]
    },
    {
      "cell_type": "code",
      "execution_count": null,
      "metadata": {
        "id": "1l9Dl7ogOijP"
      },
      "outputs": [],
      "source": [
        "penguin['bill_length_mm'].fillna(penguin['bill_length_mm'].mean(),inplace=True)\n",
        "penguin['bill_depth_mm'].fillna(penguin['bill_depth_mm'].median(),inplace=True)\n",
        "penguin['flipper_length_mm'].fillna(penguin['flipper_length_mm'].mean(),inplace=True)\n",
        "penguin['body_mass_g'].fillna(penguin['body_mass_g'].mean(),inplace=True)\n",
        "penguin['sex'].fillna(penguin['sex'].mode()[0], inplace=True)\n",
        "penguin.isnull().sum()"
      ]
    },
    {
      "cell_type": "code",
      "execution_count": null,
      "metadata": {
        "id": "ig9LpAEpPr-g"
      },
      "outputs": [],
      "source": [
        "penguin = pd.get_dummies(penguin, columns=['species', 'island', 'sex'], drop_first=True)\n",
        "penguin"
      ]
    },
    {
      "cell_type": "code",
      "execution_count": null,
      "metadata": {
        "id": "xDMboaB2PsGZ"
      },
      "outputs": [],
      "source": [
        "from sklearn.preprocessing import StandardScaler\n",
        "scaler=StandardScaler()\n",
        "penguin_scaled = scaler.fit_transform(penguin)\n",
        "penguin_scaled"
      ]
    },
    {
      "cell_type": "code",
      "execution_count": null,
      "metadata": {
        "id": "JsiEbmOwPsJp"
      },
      "outputs": [],
      "source": [
        "penguin"
      ]
    },
    {
      "cell_type": "code",
      "execution_count": null,
      "metadata": {
        "id": "mFGFJYUVTxkK"
      },
      "outputs": [],
      "source": [
        "import seaborn as sn\n",
        "penguin=sns.load_dataset('penguins')\n",
        "penguin\n"
      ]
    },
    {
      "cell_type": "code",
      "execution_count": null,
      "metadata": {
        "id": "ohA46TUHT9Jy"
      },
      "outputs": [],
      "source": [
        "print(\"\\nInfo about the tips dataset:\")\n",
        "penguin.info()\n",
        "print(\"\\ndescription of the tips dataset:\")\n",
        "penguin.describe(include='all')"
      ]
    },
    {
      "cell_type": "code",
      "execution_count": null,
      "metadata": {
        "id": "2HllafvbT9Sy"
      },
      "outputs": [],
      "source": [
        "penguin.info()"
      ]
    },
    {
      "cell_type": "code",
      "execution_count": null,
      "metadata": {
        "id": "1b-qzoJRT9YM"
      },
      "outputs": [],
      "source": [
        "penguin.describe()"
      ]
    },
    {
      "cell_type": "code",
      "execution_count": null,
      "metadata": {
        "id": "oOkRblg7T9cb"
      },
      "outputs": [],
      "source": [
        "penguin.isnull().sum()"
      ]
    },
    {
      "cell_type": "code",
      "execution_count": null,
      "metadata": {
        "id": "VGHF3ZYST9hf"
      },
      "outputs": [],
      "source": [
        "penguin.sort_values(by='bill_length_mm')"
      ]
    },
    {
      "cell_type": "code",
      "execution_count": null,
      "metadata": {
        "id": "GE7MymkiUqar"
      },
      "outputs": [],
      "source": [
        "grouped=penguin.groupby('species')['bill_depth_mm'].mean()\n",
        "grouped"
      ]
    },
    {
      "cell_type": "code",
      "execution_count": null,
      "metadata": {
        "id": "FjUi4yMAVFWr"
      },
      "outputs": [],
      "source": [
        "import matplotlib.pyplot as plt\n",
        "a=penguin[\"flipper_length_mm\"]\n",
        "b=penguin[\"bill_length_mm\"]\n",
        "plt.plot(a,b,marker='o')\n",
        "plt.xlabel(\"species\")\n",
        "plt.ylabel(\"bill_length_mm\")\n",
        "plt.title(\"survival\")\n",
        "plt.show()"
      ]
    },
    {
      "cell_type": "code",
      "execution_count": null,
      "metadata": {
        "id": "kLiGtQEGVxoT"
      },
      "outputs": [],
      "source": [
        "import matplotlib.pyplot as plt\n",
        "titanic.groupby('sex').size().plot(kind='pie',autopct='%1.1f%%')\n",
        "plt.title(\"sex\")\n",
        "plt.show()"
      ]
    },
    {
      "cell_type": "code",
      "execution_count": null,
      "metadata": {
        "id": "svXL777fWAIS"
      },
      "outputs": [],
      "source": [
        "bill_length_mm=penguin['bill_length_mm']\n",
        "print(bill_length_mm)\n",
        "plt.hist(bill_length_mm,bins=5,color='orange',edgecolor='black')\n",
        "plt.title(\"bill_length_mm distribution\")\n",
        "plt.xlabel(\"bill_length_mm\")\n",
        "plt.ylabel(\"Frequency\")\n",
        "plt.show()"
      ]
    },
    {
      "cell_type": "code",
      "execution_count": null,
      "metadata": {
        "id": "Y6i-eKxaWpPc"
      },
      "outputs": [],
      "source": [
        "a=penguin['bill_length_mm'].value_counts()\n",
        "print(a)\n",
        "a.plot(kind='bar',color='blue')\n",
        "plt.title(\"bill_length_mm range\")\n",
        "plt.xlabel(\"bill_length_mm\")\n",
        "plt.ylabel(\"range\")\n",
        "plt.show()"
      ]
    },
    {
      "cell_type": "code",
      "execution_count": null,
      "metadata": {
        "id": "PHaCy1IIWAMx"
      },
      "outputs": [],
      "source": [
        "sns.pairplot(penguin,hue='species')\n",
        "plt.show()"
      ]
    },
    {
      "cell_type": "code",
      "execution_count": null,
      "metadata": {
        "id": "F6rUMty7WAQj"
      },
      "outputs": [],
      "source": [
        "corr=penguin.corr(numeric_only=True)\n",
        "sns.heatmap(corr,annot=True, cmap=\"coolwarm\")\n",
        "plt.title(\"correlation matrix\")\n",
        "plt.show()"
      ]
    },
    {
      "cell_type": "code",
      "execution_count": null,
      "metadata": {
        "id": "bgRnXxfSXIbD"
      },
      "outputs": [],
      "source": [
        "sns.countplot(x=\"flipper_length_mm\",data=penguin)\n",
        "plt.title(\"count of records by age\")\n",
        "plt.show()"
      ]
    },
    {
      "cell_type": "code",
      "execution_count": null,
      "metadata": {
        "id": "mhD02Ki9Xijs"
      },
      "outputs": [],
      "source": [
        "sns.boxplot(x=\"flipper_length_mm\",y=\"bill_length_mm\",data=penguin)\n",
        "plt.title(\"boxplot of species by day\")\n",
        "plt.show()"
      ]
    },
    {
      "cell_type": "code",
      "execution_count": null,
      "metadata": {
        "id": "AktRrKNwXIhU"
      },
      "outputs": [],
      "source": [
        "penguin['bill_length_mm'].fillna(penguin['bill_length_mm'].mean(),inplace=True)\n",
        "penguin['bill_depth_mm'].fillna(penguin['bill_depth_mm'].median(),inplace=True)\n",
        "penguin['flipper_length_mm'].fillna(penguin['flipper_length_mm'].mean(),inplace=True)\n",
        "penguin['body_mass_g'].fillna(penguin['body_mass_g'].mean(),inplace=True)\n",
        "penguin['sex'].fillna(penguin['sex'].mode()[0], inplace=True)\n",
        "penguin.isnull().sum()"
      ]
    },
    {
      "cell_type": "code",
      "execution_count": null,
      "metadata": {
        "id": "U2lLIS5ybRv7"
      },
      "outputs": [],
      "source": [
        "penguin = pd.get_dummies(penguin, columns=['species', 'island', 'sex'], drop_first=True)\n",
        "penguin"
      ]
    },
    {
      "cell_type": "code",
      "execution_count": null,
      "metadata": {
        "id": "PAKO3_uGbxuF"
      },
      "outputs": [],
      "source": [
        "from sklearn.preprocessing import StandardScaler\n",
        "scaler=StandardScaler()\n",
        "penguin_scaled = scaler.fit_transform(penguin)\n",
        "penguin_scaled"
      ]
    },
    {
      "cell_type": "code",
      "execution_count": null,
      "metadata": {
        "id": "KPV7XvZ0f_N8"
      },
      "outputs": [],
      "source": [
        "import seaborn as sn\n",
        "diamonds=sns.load_dataset('diamonds')\n",
        "diamonds\n"
      ]
    },
    {
      "cell_type": "code",
      "execution_count": null,
      "metadata": {
        "id": "u8thk2MexLp3"
      },
      "outputs": [],
      "source": [
        "print(\"\\nInfo about the tips dataset:\")\n",
        "diamonds.info()\n",
        "print(\"\\ndescription of the tips dataset:\")\n",
        "diamonds.describe(include='all')"
      ]
    },
    {
      "cell_type": "code",
      "execution_count": null,
      "metadata": {
        "id": "fLlKN-pOxkiQ"
      },
      "outputs": [],
      "source": [
        "diamonds.info()"
      ]
    },
    {
      "cell_type": "code",
      "execution_count": null,
      "metadata": {
        "id": "ry-cnzkwxLuf"
      },
      "outputs": [],
      "source": [
        "diamonds.describe()"
      ]
    },
    {
      "cell_type": "code",
      "execution_count": null,
      "metadata": {
        "id": "ESLXXBI0xLyE"
      },
      "outputs": [],
      "source": [
        "diamonds.isnull().sum()"
      ]
    },
    {
      "cell_type": "code",
      "execution_count": null,
      "metadata": {
        "id": "moGzMHBtxL2U"
      },
      "outputs": [],
      "source": [
        "diamonds.sort_values(by='carat')"
      ]
    },
    {
      "cell_type": "code",
      "execution_count": null,
      "metadata": {
        "id": "TvbkSTZYxL5B"
      },
      "outputs": [],
      "source": [
        "grouped=diamonds.groupby('cut')['carat'].mean()\n",
        "grouped"
      ]
    },
    {
      "cell_type": "code",
      "execution_count": null,
      "metadata": {
        "id": "GUrTfFHv2S2b"
      },
      "outputs": [],
      "source": [
        "print(\"first 1000 rows:\")\n",
        "diamonds.head(1000)"
      ]
    },
    {
      "cell_type": "code",
      "execution_count": null,
      "metadata": {
        "id": "KLnke1H1xL9I"
      },
      "outputs": [],
      "source": [
        "sns.pairplot(diamonds,hue='cut')\n",
        "plt.show()"
      ]
    },
    {
      "cell_type": "code",
      "execution_count": null,
      "metadata": {
        "id": "l19an3ErxMA_"
      },
      "outputs": [],
      "source": [
        "import seaborn as sns\n",
        "import matplotlib.pyplot as plt\n",
        "diamonds = sns.load_dataset('diamonds')\n",
        "sns.countplot(x=\"cut\",data=diamonds)\n",
        "plt.title(\"Count of Diamonds by price\")\n",
        "plt.show()"
      ]
    },
    {
      "cell_type": "code",
      "execution_count": null,
      "metadata": {
        "id": "iHWZlyNXxMEx"
      },
      "outputs": [],
      "source": [
        "corr=diamonds.corr(numeric_only=True)\n",
        "sns.heatmap(corr,annot=True, cmap=\"coolwarm\")\n",
        "plt.title(\"correlation matrix\")\n",
        "plt.show()"
      ]
    },
    {
      "cell_type": "code",
      "execution_count": null,
      "metadata": {
        "id": "NQdeBIhOxMIU"
      },
      "outputs": [],
      "source": [
        "sns.boxplot(x=\"cut\",y=\"carat\",data=diamonds)\n",
        "plt.title(\"boxplot of carat by day\")\n",
        "plt.show()"
      ]
    },
    {
      "cell_type": "code",
      "execution_count": null,
      "metadata": {
        "id": "o3D8CZ--3Dmq"
      },
      "outputs": [],
      "source": [
        "import matplotlib.pyplot as plt\n",
        "a=diamonds['cut']\n",
        "b=diamonds[\"carat\"]\n",
        "plt.plot(a,b,marker='o')\n",
        "plt.xlabel(\"cut\")\n",
        "plt.ylabel(\"carat\")\n",
        "plt.title(\"survival\")\n",
        "plt.show()"
      ]
    },
    {
      "cell_type": "code",
      "execution_count": null,
      "metadata": {
        "id": "xs3a9KwD3Dty"
      },
      "outputs": [],
      "source": [
        "import matplotlib.pyplot as plt\n",
        "diamonds.groupby('cut').size().plot(kind='pie',autopct='%1.1f%%')\n",
        "plt.title(\"Proportion of Diamond Cuts\")\n",
        "plt.show()"
      ]
    },
    {
      "cell_type": "code",
      "execution_count": null,
      "metadata": {
        "id": "cVCiBDcd3EdD"
      },
      "outputs": [],
      "source": [
        "cut=diamonds['cut']\n",
        "print(ages)\n",
        "plt.hist(ages,bins=5,color='orange',edgecolor='black')\n",
        "plt.title(\"cut distribution\")\n",
        "plt.xlabel(\"cut\")\n",
        "plt.ylabel(\"Frequency\")\n",
        "plt.show()"
      ]
    },
    {
      "cell_type": "code",
      "execution_count": null,
      "metadata": {
        "id": "VPcKFpIF3Elc"
      },
      "outputs": [],
      "source": [
        "a=diamonds['cut'].value_counts()\n",
        "print(a)\n",
        "a.plot(kind='bar',color='blue')\n",
        "plt.title(\"cut range\")\n",
        "plt.xlabel(\"cut\")\n",
        "plt.ylabel(\"range\")\n",
        "plt.show()"
      ]
    },
    {
      "cell_type": "code",
      "execution_count": null,
      "metadata": {
        "id": "FNLpem6t62aM"
      },
      "outputs": [],
      "source": [
        "da=titanic['class'].value_counts()\n",
        "print(a)\n",
        "a.plot(kind='bar',color='blue')\n",
        "plt.title(\"class range\")\n",
        "plt.xlabel(\"class\")\n",
        "plt.ylabel(\"range\")\n",
        "plt.show()"
      ]
    },
    {
      "cell_type": "code",
      "execution_count": null,
      "metadata": {
        "id": "jj2Ghqdq5BGM"
      },
      "outputs": [],
      "source": [
        "from sklearn.preprocessing import StandardScaler\n",
        "import pandas as pd\n",
        "diamonds = pd.get_dummies(diamonds, columns=['cut', 'color', 'clarity'], drop_first=True)\n",
        "scaler=StandardScaler()\n",
        "diamonds_scaled = scaler.fit_transform(diamonds)\n",
        "diamonds_scaled"
      ]
    },
    {
      "cell_type": "code",
      "execution_count": null,
      "metadata": {
        "id": "1SO0H6Lx5BLN"
      },
      "outputs": [],
      "source": [
        "import pandas as pd\n",
        "url ='https://raw.githubusercontent.com/stedy/Machine-Learning-with-R-datasets/master/insurance.csv'\n",
        "df = pd.read_csv(url)\n"
      ]
    },
    {
      "cell_type": "code",
      "execution_count": null,
      "metadata": {
        "id": "AmlvPB8yG9JX"
      },
      "outputs": [],
      "source": [
        "print(\"\\nInfo about the tips dataset:\")\n",
        "df.info()\n",
        "print(\"\\ndescription of the tips dataset:\")\n",
        "df.describe(include='all')"
      ]
    },
    {
      "cell_type": "code",
      "execution_count": null,
      "metadata": {
        "id": "kCWNxjhhHTR3"
      },
      "outputs": [],
      "source": [
        "df.info()"
      ]
    },
    {
      "cell_type": "code",
      "execution_count": null,
      "metadata": {
        "id": "A4kKSZ1CHTau"
      },
      "outputs": [],
      "source": [
        "df.describe()"
      ]
    },
    {
      "cell_type": "code",
      "execution_count": null,
      "metadata": {
        "id": "mHmfRqT7HTeV"
      },
      "outputs": [],
      "source": [
        "df.isnull().sum()"
      ]
    },
    {
      "cell_type": "code",
      "execution_count": null,
      "metadata": {
        "id": "Q5IaYx98HTjA"
      },
      "outputs": [],
      "source": [
        "df.sort_values(by='age')"
      ]
    },
    {
      "cell_type": "code",
      "execution_count": null,
      "metadata": {
        "id": "SROVjHPYHTnI"
      },
      "outputs": [],
      "source": [
        "grouped=df.groupby('sex')['age'].mean()\n",
        "grouped"
      ]
    },
    {
      "cell_type": "code",
      "execution_count": null,
      "metadata": {
        "id": "jUu2xAv4HTr1"
      },
      "outputs": [],
      "source": [
        "import matplotlib.pyplot as plt\n",
        "a=df['age']\n",
        "b=df[\"bmi\"]\n",
        "plt.plot(a,b,marker='o')\n",
        "plt.xlabel(\"age\")\n",
        "plt.ylabel(\"bmi\")\n",
        "plt.title(\"survival\")\n",
        "plt.show()"
      ]
    },
    {
      "cell_type": "code",
      "execution_count": null,
      "metadata": {
        "id": "1TfLcUEUH9I-"
      },
      "outputs": [],
      "source": [
        "import matplotlib.pyplot as plt\n",
        "df.groupby('sex').size().plot(kind='pie',autopct='%1.1f%%')\n",
        "plt.title(\"sex\")\n",
        "plt.show()"
      ]
    },
    {
      "cell_type": "code",
      "execution_count": null,
      "metadata": {
        "id": "wnG9YNpyH9Nu"
      },
      "outputs": [],
      "source": [
        "age=df['age']\n",
        "print(age)\n",
        "plt.hist(age,bins=5,color='orange',edgecolor='black')\n",
        "plt.title(\"Age distribution\")\n",
        "plt.xlabel(\"Age\")\n",
        "plt.ylabel(\"Frequency\")\n",
        "plt.show()"
      ]
    },
    {
      "cell_type": "code",
      "execution_count": null,
      "metadata": {
        "id": "vhgKVCrEH9Ry"
      },
      "outputs": [],
      "source": [
        "age=df['age']\n",
        "print(age)\n",
        "plt.hist(age,bins=5,color='orange',edgecolor='black')\n",
        "plt.title(\"Age distribution\")\n",
        "plt.xlabel(\"Age\")\n",
        "plt.ylabel(\"Frequency\")\n",
        "plt.show()"
      ]
    },
    {
      "cell_type": "code",
      "execution_count": null,
      "metadata": {
        "id": "T5c9jsfdLAiB"
      },
      "outputs": [],
      "source": [
        "import seaborn as sns\n",
        "sns.pairplot(df,hue='sex')\n",
        "plt.show()"
      ]
    },
    {
      "cell_type": "code",
      "execution_count": null,
      "metadata": {
        "id": "hAY4BGt9LUGY"
      },
      "outputs": [],
      "source": [
        "corr=df.corr(numeric_only=True)\n",
        "sns.heatmap(corr,annot=True, cmap=\"coolwarm\")\n",
        "plt.title(\"correlation matrix\")\n",
        "plt.show()"
      ]
    },
    {
      "cell_type": "code",
      "execution_count": null,
      "metadata": {
        "id": "M0NeuO-ILYma"
      },
      "outputs": [],
      "source": [
        "sns.countplot(x=\"age\",data=df)\n",
        "plt.title(\"count of records by age\")\n",
        "plt.show()"
      ]
    },
    {
      "cell_type": "code",
      "execution_count": null,
      "metadata": {
        "id": "lxeNEWT-LdWf"
      },
      "outputs": [],
      "source": [
        "sns.boxplot(x=\"age\",y=\"bmi\",data=df)\n",
        "plt.title(\"boxplot of age by day\")\n",
        "plt.show()"
      ]
    },
    {
      "cell_type": "code",
      "execution_count": null,
      "metadata": {
        "id": "lyJiMQBvIcAv"
      },
      "outputs": [],
      "source": [
        "df = pd.get_dummies(df, columns=['sex', 'smoker', 'region'], drop_first=True)\n",
        "df"
      ]
    },
    {
      "cell_type": "code",
      "execution_count": null,
      "metadata": {
        "id": "2cz274aNJ6pf"
      },
      "outputs": [],
      "source": [
        "from sklearn.preprocessing import StandardScaler\n",
        "scaler=StandardScaler()\n",
        "df_scaled = scaler.fit_transform(df)\n",
        "df_scaled"
      ]
    },
    {
      "cell_type": "code",
      "execution_count": null,
      "metadata": {
        "id": "-O9vz10_N_KR"
      },
      "outputs": [],
      "source": [
        "import pandas as pd\n",
        "url ='https://raw.githubusercontent.com/stedy/Machine-Learning-with-R-datasets/master/insurance.csv'\n",
        "df = pd.read_csv(url)\n",
        "df"
      ]
    },
    {
      "cell_type": "code",
      "execution_count": null,
      "metadata": {
        "id": "k882KeGbPq3R"
      },
      "outputs": [],
      "source": [
        "print(\"\\nInfo about the tips dataset:\")\n",
        "df.info()\n",
        "print(\"\\ndescription of the tips dataset:\")\n",
        "df.describe(include='all')"
      ]
    },
    {
      "cell_type": "code",
      "execution_count": null,
      "metadata": {
        "id": "Eo48o0zVPsqp"
      },
      "outputs": [],
      "source": [
        "df.info()"
      ]
    },
    {
      "cell_type": "code",
      "execution_count": null,
      "metadata": {
        "id": "o0ZsIhjbPz1R"
      },
      "outputs": [],
      "source": [
        "df.describe()"
      ]
    },
    {
      "cell_type": "code",
      "execution_count": null,
      "metadata": {
        "id": "HrXeuw-tPz4z"
      },
      "outputs": [],
      "source": [
        "df.isnull().sum()"
      ]
    },
    {
      "cell_type": "code",
      "execution_count": null,
      "metadata": {
        "id": "8M1quWPzPz8Z"
      },
      "outputs": [],
      "source": [
        "df.sort_values(by='age')"
      ]
    },
    {
      "cell_type": "code",
      "execution_count": null,
      "metadata": {
        "id": "M4h6tVMXPz_1"
      },
      "outputs": [],
      "source": [
        "grouped=df.groupby('sex')['age'].mean()\n",
        "grouped"
      ]
    },
    {
      "cell_type": "code",
      "execution_count": null,
      "metadata": {
        "id": "fDi2uwLWP0GU"
      },
      "outputs": [],
      "source": [
        "sns.pairplot(df,hue='sex')\n",
        "plt.show()"
      ]
    },
    {
      "cell_type": "code",
      "execution_count": null,
      "metadata": {
        "id": "-L0MmGFfQOmp"
      },
      "outputs": [],
      "source": [
        "corr=df.corr(numeric_only=True)\n",
        "sns.heatmap(corr,annot=True, cmap=\"coolwarm\")\n",
        "plt.title(\"correlation matrix\")\n",
        "plt.show()"
      ]
    },
    {
      "cell_type": "code",
      "execution_count": null,
      "metadata": {
        "id": "tmQK6MOMQOyJ"
      },
      "outputs": [],
      "source": [
        "sns.countplot(x=\"age\",data=df)\n",
        "plt.title(\"count of records by age\")\n",
        "plt.show()"
      ]
    },
    {
      "cell_type": "code",
      "execution_count": null,
      "metadata": {
        "id": "BQBKnbU2QfyS"
      },
      "outputs": [],
      "source": [
        "sns.boxplot(x=\"sex\",y=\"charges\",data=df)\n",
        "plt.title(\"boxplot of sex and charges\")\n",
        "plt.show()"
      ]
    },
    {
      "cell_type": "code",
      "execution_count": null,
      "metadata": {
        "id": "yRfhRL6eQmfa"
      },
      "outputs": [],
      "source": [
        "import matplotlib.pyplot as plt\n",
        "a=df['age']\n",
        "b=df[\"children\"]\n",
        "plt.plot(a,b,marker='o')\n",
        "plt.xlabel(\"age\")\n",
        "plt.ylabel(\"children\")\n",
        "plt.title(\"survival\")\n",
        "plt.show()"
      ]
    },
    {
      "cell_type": "code",
      "execution_count": null,
      "metadata": {
        "id": "Esz7PbfAQmlz"
      },
      "outputs": [],
      "source": [
        "age=df['age']\n",
        "print(age)\n",
        "plt.hist(age,bins=5,color='orange',edgecolor='black')\n",
        "plt.title(\"Age distribution\")\n",
        "plt.xlabel(\"Age\")\n",
        "plt.ylabel(\"count\")\n",
        "plt.show()"
      ]
    },
    {
      "cell_type": "code",
      "execution_count": null,
      "metadata": {
        "id": "JJS5YAhgRP6q"
      },
      "outputs": [],
      "source": [
        "a=df['region'].value_counts()\n",
        "print(a)\n",
        "a.plot(kind='bar',color='blue')\n",
        "plt.title(\"region wise count\")\n",
        "plt.xlabel(\"region\")\n",
        "plt.ylabel(\"count\")\n",
        "plt.show()"
      ]
    },
    {
      "cell_type": "code",
      "execution_count": null,
      "metadata": {
        "id": "PtsoF-rRN_Nn"
      },
      "outputs": [],
      "source": [
        "import matplotlib.pyplot as plt\n",
        "df.groupby('region').size().plot(kind='pie',autopct='%1.1f%%')\n",
        "plt.title(\"region\")\n",
        "plt.show()"
      ]
    },
    {
      "cell_type": "code",
      "execution_count": null,
      "metadata": {
        "id": "-7EUJojZOYeq"
      },
      "outputs": [],
      "source": [
        "import matplotlib.pyplot as plt\n",
        "df.groupby('smoker').size().plot(kind='pie',autopct='%1.1f%%')\n",
        "plt.title(\"smoker\")\n",
        "plt.show()"
      ]
    },
    {
      "cell_type": "code",
      "execution_count": null,
      "metadata": {
        "id": "YkBNxmYXOuki"
      },
      "outputs": [],
      "source": [
        "import matplotlib.pyplot as plt\n",
        "import pandas as pd\n",
        "url ='https://raw.githubusercontent.com/stedy/Machine-Learning-with-R-datasets/master/insurance.csv'\n",
        "df = pd.read_csv(url)\n",
        "df.groupby('sex').size().plot(kind='pie',autopct='%1.1f%%')\n",
        "plt.title(\"gender\")\n",
        "plt.show()"
      ]
    },
    {
      "cell_type": "code",
      "execution_count": null,
      "metadata": {
        "id": "T57oIMDyPY2S"
      },
      "outputs": [],
      "source": [
        "df_encoded = pd.get_dummies(df, drop_first=True)\n",
        "df_encoded.head()"
      ]
    },
    {
      "cell_type": "code",
      "execution_count": null,
      "metadata": {
        "id": "Tk_iDIHrSWJZ"
      },
      "outputs": [],
      "source": [
        "a=pd.get_dummies(df,drop_first=True)\n",
        "a"
      ]
    },
    {
      "cell_type": "code",
      "execution_count": null,
      "metadata": {
        "id": "8RG2D8gnSWNr"
      },
      "outputs": [],
      "source": [
        "df_encoded =a\n",
        "a"
      ]
    },
    {
      "cell_type": "code",
      "execution_count": null,
      "metadata": {
        "id": "fn8WBz3nSWSC"
      },
      "outputs": [],
      "source": [
        "x=df_encoded.drop('charges',axis=1)\n",
        "y=df_encoded['charges']"
      ]
    },
    {
      "cell_type": "code",
      "execution_count": null,
      "metadata": {
        "id": "pA-XwcoxSWXE"
      },
      "outputs": [],
      "source": [
        "x"
      ]
    },
    {
      "cell_type": "code",
      "execution_count": null,
      "metadata": {
        "id": "zJFCIp8ESWbz"
      },
      "outputs": [],
      "source": [
        "y"
      ]
    },
    {
      "cell_type": "code",
      "execution_count": null,
      "metadata": {
        "id": "DcdGv6gqSWhu"
      },
      "outputs": [],
      "source": [
        "from sklearn.preprocessing import StandardScaler\n",
        "scaler=StandardScaler()\n",
        "x=scaler.fit_transform(x)\n",
        "x"
      ]
    },
    {
      "cell_type": "code",
      "execution_count": null,
      "metadata": {
        "id": "O8zO6zj3MozB"
      },
      "outputs": [],
      "source": [
        "from sklearn.model_selection import train_test_split\n",
        "x_train,x_test,y_train,y_test=train_test_split(x,y,test_size=0.2,random_state=42)"
      ]
    },
    {
      "cell_type": "code",
      "execution_count": null,
      "metadata": {
        "id": "5h_SwLd0Mo6B"
      },
      "outputs": [],
      "source": [
        "from sklearn.linear_model import LinearRegression\n",
        "model=LinearRegression()\n",
        "model.fit(x_train,y_train)"
      ]
    },
    {
      "cell_type": "code",
      "execution_count": null,
      "metadata": {
        "id": "huK4aU8iMo_6"
      },
      "outputs": [],
      "source": [
        "y_pred=model.predict(x_test)"
      ]
    },
    {
      "cell_type": "code",
      "execution_count": null,
      "metadata": {
        "id": "8-g7VP1NSKdy"
      },
      "outputs": [],
      "source": [
        "dframe=pd.DataFrame({'Actual':y_test,'Predicted':y_pred})\n",
        "dframe"
      ]
    },
    {
      "cell_type": "code",
      "execution_count": null,
      "metadata": {
        "id": "p7lmqDevTGp6"
      },
      "outputs": [],
      "source": [
        "import matplotlib.pyplot as plt\n",
        "dframe.head(10).plot(kind='bar')\n",
        "plt.title(\"comparing actual y vs predicted y\")\n",
        "plt.show()"
      ]
    },
    {
      "cell_type": "code",
      "execution_count": null,
      "metadata": {
        "id": "iMDAEVyzTGuq"
      },
      "outputs": [],
      "source": [
        "from sklearn.metrics import mean_squared_error,r2_score\n",
        "import numpy as np\n",
        "mse=mean_squared_error(y_test,y_pred)\n",
        "rmse=np.sqrt(mse)\n",
        "\n",
        "print(\"mean squared error:\",mse)\n",
        "print(\"root mean squared error:\",rmse)"
      ]
    },
    {
      "cell_type": "code",
      "execution_count": null,
      "metadata": {
        "id": "BTPEsg_4V38T"
      },
      "outputs": [],
      "source": [
        "import pandas as pd\n",
        "\n",
        "url='https://raw.githubusercontent.com/Naresh312143/mahalingpur-python-ml/refs/heads/main/Salary_Data.csv'\n",
        "df1 = pd.read_csv(url)\n",
        "df1"
      ]
    },
    {
      "cell_type": "code",
      "execution_count": null,
      "metadata": {
        "id": "MhNAJ1a2V4C7"
      },
      "outputs": [],
      "source": [
        "print(\"\\nInfo about the tips dataset:\")\n",
        "df1.info()\n",
        "print(\"\\ndescription of the tips dataset:\")\n",
        "df1.describe(include='all')"
      ]
    },
    {
      "cell_type": "code",
      "execution_count": null,
      "metadata": {
        "id": "cHOEqi_NV4Ni"
      },
      "outputs": [],
      "source": [
        "df1.info()"
      ]
    },
    {
      "cell_type": "code",
      "execution_count": null,
      "metadata": {
        "id": "iV_z-GC7ZDec"
      },
      "outputs": [],
      "source": [
        "df1.describe()"
      ]
    },
    {
      "cell_type": "code",
      "execution_count": null,
      "metadata": {
        "id": "Gk7kMtLPZDiL"
      },
      "outputs": [],
      "source": [
        "df1.isnull().sum()"
      ]
    },
    {
      "cell_type": "code",
      "execution_count": null,
      "metadata": {
        "id": "H7iuAy-iZDl6"
      },
      "outputs": [],
      "source": [
        "df1.sort_values(by='Years of Experience')"
      ]
    },
    {
      "cell_type": "code",
      "execution_count": null,
      "metadata": {
        "id": "b518jm3EZDpR"
      },
      "outputs": [],
      "source": [
        "grouped=df1.groupby('Years of Experience')['Salary'].mean()\n",
        "grouped"
      ]
    },
    {
      "cell_type": "code",
      "execution_count": null,
      "metadata": {
        "id": "LDefikvEZDtz"
      },
      "outputs": [],
      "source": [
        "sns.pairplot(df1,hue='Years of Experience')\n",
        "plt.show()"
      ]
    },
    {
      "cell_type": "code",
      "execution_count": null,
      "metadata": {
        "id": "lFye_fQcZDxI"
      },
      "outputs": [],
      "source": [
        "corr=df1.corr(numeric_only=True)\n",
        "sns.heatmap(corr,annot=True, cmap=\"coolwarm\")\n",
        "plt.title(\"correlation matrix\")\n",
        "plt.show()"
      ]
    },
    {
      "cell_type": "code",
      "execution_count": null,
      "metadata": {
        "id": "F7owBwsQZD09"
      },
      "outputs": [],
      "source": [
        "sns.countplot(x=\"Years of Experience\",data=df1)\n",
        "plt.title(\"count of year of experience\")\n",
        "plt.show()"
      ]
    },
    {
      "cell_type": "code",
      "execution_count": null,
      "metadata": {
        "id": "1Bzy5j7MZvpN"
      },
      "outputs": [],
      "source": [
        "sns.boxplot(x=\"Years of Experience\",y=\"Salary\",data=df1)\n",
        "plt.title(\"boxplot of year of experience\")\n",
        "plt.show()"
      ]
    },
    {
      "cell_type": "code",
      "execution_count": null,
      "metadata": {
        "id": "rkUnXcspZvti"
      },
      "outputs": [],
      "source": [
        "import matplotlib.pyplot as plt\n",
        "a=df1['Years of Experience']\n",
        "b=df1[\"Salary\"]\n",
        "plt.plot(a,b,marker='o')\n",
        "plt.xlabel(\"year of experience\")\n",
        "plt.ylabel(\"salary\")\n",
        "plt.title(\"survival\")\n",
        "plt.show()"
      ]
    },
    {
      "cell_type": "code",
      "execution_count": null,
      "metadata": {
        "id": "m4tUUDjhZvy8"
      },
      "outputs": [],
      "source": [
        "year_of_experience=df1['Years of Experience']\n",
        "print(year_of_experience)\n",
        "plt.hist(year_of_experience, bins=5,color='orange',edgecolor='black')\n",
        "plt.title(\"year of experience\")\n",
        "plt.xlabel(\"year of experience\")\n",
        "plt.ylabel(\"Frequency\")\n",
        "plt.show()"
      ]
    },
    {
      "cell_type": "code",
      "execution_count": null,
      "metadata": {
        "id": "ulKQWWkocD7D"
      },
      "outputs": [],
      "source": [
        "a=df1['Salary'].value_counts()\n",
        "print(a)\n",
        "a.plot(kind='bar',color='blue')\n",
        "plt.title(\"salary range\")\n",
        "plt.xlabel(\"salary\")\n",
        "plt.ylabel(\"range\")\n",
        "plt.show()"
      ]
    },
    {
      "cell_type": "code",
      "execution_count": null,
      "metadata": {
        "id": "Jx1MuzPhmviE"
      },
      "outputs": [],
      "source": [
        "x=df1_encoded.drop('Salary',axis=1)\n",
        "y=df1_encoded['Salary']"
      ]
    },
    {
      "cell_type": "code",
      "execution_count": null,
      "metadata": {
        "id": "ekDRwtLwm6Xz"
      },
      "outputs": [],
      "source": [
        "x"
      ]
    },
    {
      "cell_type": "code",
      "execution_count": null,
      "metadata": {
        "id": "Se24QE2om6ju"
      },
      "outputs": [],
      "source": [
        "y"
      ]
    },
    {
      "cell_type": "code",
      "execution_count": null,
      "metadata": {
        "id": "FIv1XRjscyv2"
      },
      "outputs": [],
      "source": [
        "from sklearn.preprocessing import StandardScaler\n",
        "scaler=StandardScaler()\n",
        "x=scaler.fit_transform(x)\n",
        "x"
      ]
    },
    {
      "cell_type": "code",
      "execution_count": null,
      "metadata": {
        "id": "gYj00cu0cy4r"
      },
      "outputs": [],
      "source": [
        "from sklearn.model_selection import train_test_split\n",
        "x_train,x_test,y_train,y_test=train_test_split(x,y,test_size=0.2,random_state=42)"
      ]
    },
    {
      "cell_type": "code",
      "execution_count": null,
      "metadata": {
        "id": "75de0aef"
      },
      "outputs": [],
      "source": [
        "df1['Years of Experience'].fillna(df1['Years of Experience'].mean(), inplace=True)\n",
        "df1['Salary'].fillna(df1['Salary'].mean(), inplace=True)"
      ]
    },
    {
      "cell_type": "code",
      "execution_count": null,
      "metadata": {
        "id": "9caef7c3"
      },
      "outputs": [],
      "source": [
        "\n",
        "from sklearn.linear_model import LinearRegression\n",
        "model=LinearRegression()\n",
        "model.fit(x_train,y_train)"
      ]
    },
    {
      "cell_type": "code",
      "execution_count": null,
      "metadata": {
        "id": "d-GYORr-eOwz"
      },
      "outputs": [],
      "source": [
        "y_pred=model.predict(x_test)"
      ]
    },
    {
      "cell_type": "code",
      "execution_count": null,
      "metadata": {
        "id": "U0KkVUCpeO2K"
      },
      "outputs": [],
      "source": [
        "dframe=pd.DataFrame({'Actual':y_test,'Predicted':y_pred})\n",
        "dframe"
      ]
    },
    {
      "cell_type": "code",
      "execution_count": null,
      "metadata": {
        "id": "ipQZdEj-eO6N"
      },
      "outputs": [],
      "source": [
        "import matplotlib.pyplot as plt\n",
        "dframe.head(10).plot(kind='bar')\n",
        "plt.title(\"comparing actual y vs predicted y\")\n",
        "plt.show()"
      ]
    },
    {
      "cell_type": "code",
      "execution_count": null,
      "metadata": {
        "id": "jPIoYSIZeoRU"
      },
      "outputs": [],
      "source": [
        "from sklearn.metrics import mean_squared_error,r2_score\n",
        "import numpy as np\n",
        "mse=mean_squared_error(y_test,y_pred)\n",
        "rmse=np.sqrt(mse)\n",
        "print(\"mean squared error:\",mse)\n",
        "print(\"root mean squared error:\",rmse)"
      ]
    },
    {
      "cell_type": "code",
      "execution_count": null,
      "metadata": {
        "id": "EePxX-Go3CzQ"
      },
      "outputs": [],
      "source": [
        "import pandas as pd\n",
        "url='https://raw.githubusercontent.com/Naresh312143/mahalingpur-python-ml/refs/heads/main/Salary_Data.csv'\n",
        "df1 = pd.read_csv(url)\n",
        "df1.head()"
      ]
    },
    {
      "cell_type": "code",
      "execution_count": null,
      "metadata": {
        "id": "TGkyj-hR3IUw"
      },
      "outputs": [],
      "source": [
        "df1.info()"
      ]
    },
    {
      "cell_type": "code",
      "execution_count": null,
      "metadata": {
        "id": "e8nF7KQ73C-w"
      },
      "outputs": [],
      "source": [
        "df1.describe()"
      ]
    },
    {
      "cell_type": "code",
      "execution_count": null,
      "metadata": {
        "id": "eIZV_C4MQ94_"
      },
      "outputs": [],
      "source": [
        "df1['Years of Experience'].fillna(df1['Years of Experience'].mean(), inplace=True)\n"
      ]
    },
    {
      "cell_type": "code",
      "execution_count": null,
      "metadata": {
        "id": "hIZRiSrjR_-t"
      },
      "outputs": [],
      "source": [
        "df1['Salary'].fillna(df1['Salary'].mean(), inplace=True)\n"
      ]
    },
    {
      "cell_type": "code",
      "execution_count": null,
      "metadata": {
        "id": "bQXWmLk2SMpT"
      },
      "outputs": [],
      "source": [
        "x"
      ]
    },
    {
      "cell_type": "code",
      "execution_count": null,
      "metadata": {
        "id": "Cs4v_x1vSeh1"
      },
      "outputs": [],
      "source": [
        "y"
      ]
    },
    {
      "cell_type": "code",
      "execution_count": null,
      "metadata": {
        "id": "K7yUQZbSYeYW"
      },
      "outputs": [],
      "source": [
        "x=df1[['Years of Experience']].values\n",
        "y=df1[['Salary']].values"
      ]
    },
    {
      "cell_type": "code",
      "execution_count": null,
      "metadata": {
        "id": "OFeAIrR1Lj6H"
      },
      "outputs": [],
      "source": [
        "from sklearn.preprocessing import StandardScaler\n",
        "\n",
        "sc_x=StandardScaler()\n",
        "sc_y=StandardScaler()\n",
        "y_2d = y.reshape(-1, 1)\n",
        "x_scaled = sc_x.fit_transform(x)\n",
        "y_scaled = sc_y.fit_transform(y_2d)"
      ]
    },
    {
      "cell_type": "code",
      "execution_count": null,
      "metadata": {
        "id": "_ygKzSnCTyR9"
      },
      "outputs": [],
      "source": [
        "y_scaled = y_scaled.ravel()\n",
        "y_scaled"
      ]
    },
    {
      "cell_type": "code",
      "execution_count": null,
      "metadata": {
        "id": "TpWQoZY-LkCN"
      },
      "outputs": [],
      "source": [
        "from sklearn.svm import SVR\n",
        "svr = SVR(kernel='rbf', C=100, epsilon=0.1)\n",
        "svr.fit(x_scaled, y_scaled)\n"
      ]
    },
    {
      "cell_type": "code",
      "execution_count": null,
      "metadata": {
        "id": "Ywpibyt6XhyX"
      },
      "outputs": [],
      "source": [
        "y_pred_scaled = svr.predict(x_scaled)\n",
        "y_pred = sc_y.inverse_transform(y_pred_scaled.reshape(-1, 1))"
      ]
    },
    {
      "cell_type": "code",
      "execution_count": null,
      "metadata": {
        "id": "VQ3W7P-AZiQj"
      },
      "outputs": [],
      "source": [
        "y_pred_scaled"
      ]
    },
    {
      "cell_type": "code",
      "execution_count": null,
      "metadata": {
        "id": "78N0QIy3Zo_t"
      },
      "outputs": [],
      "source": [
        "y_pred"
      ]
    },
    {
      "cell_type": "code",
      "execution_count": null,
      "metadata": {
        "id": "-wEZVTursqBG"
      },
      "outputs": [],
      "source": [
        "import seaborn as sns\n",
        "exercise=sns.load_dataset('exercise')\n",
        "exercise"
      ]
    },
    {
      "cell_type": "code",
      "execution_count": null,
      "metadata": {
        "id": "mrQOK2WLs2sf"
      },
      "outputs": [],
      "source": [
        "print(\"\\nInfo about the tips dataset:\")\n",
        "exercise.info()\n",
        "print(\"\\ndescription of the tips dataset:\")\n",
        "exercise.describe(include='all')"
      ]
    },
    {
      "cell_type": "code",
      "execution_count": null,
      "metadata": {
        "id": "78h9Zkgos6Wf"
      },
      "outputs": [],
      "source": [
        "exercise.info()"
      ]
    },
    {
      "cell_type": "code",
      "execution_count": null,
      "metadata": {
        "id": "kEZ2L_futAnO"
      },
      "outputs": [],
      "source": [
        "exercise.describe()"
      ]
    },
    {
      "cell_type": "code",
      "execution_count": null,
      "metadata": {
        "id": "fJYdyulEtAqw"
      },
      "outputs": [],
      "source": [
        "exercise.isnull().sum()"
      ]
    },
    {
      "cell_type": "code",
      "execution_count": null,
      "metadata": {
        "id": "ZlmCex2_tAvh"
      },
      "outputs": [],
      "source": [
        "exercise['id'].fillna(exercise['id'].mean(), inplace=True)"
      ]
    },
    {
      "cell_type": "code",
      "execution_count": null,
      "metadata": {
        "id": "NUmv5oXBtAzo"
      },
      "outputs": [],
      "source": [
        "exercise['diet'].fillna(exercise['diet'].mode(), inplace=True)"
      ]
    },
    {
      "cell_type": "code",
      "execution_count": null,
      "metadata": {
        "id": "v6fQCz9gtOEA"
      },
      "outputs": [],
      "source": [
        "exercise['pulse'].fillna(exercise['pulse'].mode(), inplace=True)"
      ]
    },
    {
      "cell_type": "code",
      "execution_count": null,
      "metadata": {
        "id": "URA9gfhptOIg"
      },
      "outputs": [],
      "source": [
        "exercise['time'].fillna(exercise['time'].mode(), inplace=True)"
      ]
    },
    {
      "cell_type": "code",
      "execution_count": null,
      "metadata": {
        "id": "Hy6UUkiUtOM6"
      },
      "outputs": [],
      "source": [
        "exercise['kind'].fillna(exercise['kind'].mode(), inplace=True)"
      ]
    },
    {
      "cell_type": "code",
      "execution_count": null,
      "metadata": {
        "id": "lMvQDh2VwPo_"
      },
      "outputs": [],
      "source": [
        "sns.pairplot(exercise,hue='diet')\n",
        "plt.show()"
      ]
    },
    {
      "cell_type": "code",
      "execution_count": null,
      "metadata": {
        "id": "CeULcNXBwPuY"
      },
      "outputs": [],
      "source": [
        "corr=exercise.corr(numeric_only=True)\n",
        "sns.heatmap(corr,annot=True, cmap=\"coolwarm\")\n",
        "plt.title(\"correlation matrix\")\n",
        "plt.show()"
      ]
    },
    {
      "cell_type": "code",
      "execution_count": null,
      "metadata": {
        "id": "umd8JAxGwP2O"
      },
      "outputs": [],
      "source": [
        "sns.countplot(x=\"diet\",data=exercise)\n",
        "plt.title(\"count of diet\")\n",
        "plt.show()"
      ]
    },
    {
      "cell_type": "code",
      "execution_count": null,
      "metadata": {
        "id": "fU7uZyR2wP93"
      },
      "outputs": [],
      "source": [
        "sns.boxplot(x=\"diet\",y=\"pulse\",data=exercise)\n",
        "plt.title(\"boxplot of diet\")\n",
        "plt.show()"
      ]
    },
    {
      "cell_type": "code",
      "execution_count": null,
      "metadata": {
        "id": "_MZWyYBFtOQf"
      },
      "outputs": [],
      "source": [
        "exercise_encoded = pd.get_dummies(exercise, drop_first=True)\n",
        "x=exercise_encoded.drop('pulse',axis=1)\n",
        "y=exercise_encoded['pulse']"
      ]
    },
    {
      "cell_type": "code",
      "execution_count": null,
      "metadata": {
        "id": "bkTQYcbKtOUY"
      },
      "outputs": [],
      "source": [
        "from sklearn.preprocessing import StandardScaler\n",
        "scaler=StandardScaler()\n",
        "x=scaler.fit_transform(x)\n",
        "x"
      ]
    },
    {
      "cell_type": "code",
      "execution_count": null,
      "metadata": {
        "id": "FPfZ0qb2tOYq"
      },
      "outputs": [],
      "source": [
        "x_train,x_test,y_train,y_test=train_test_split(x,y,test_size=0.2,random_state=42)"
      ]
    },
    {
      "cell_type": "code",
      "execution_count": null,
      "metadata": {
        "id": "1OBo-euhtOcb"
      },
      "outputs": [],
      "source": [
        "from sklearn.linear_model import LinearRegression\n",
        "model=LinearRegression()\n",
        "model.fit(x_train,y_train)"
      ]
    },
    {
      "cell_type": "code",
      "execution_count": null,
      "metadata": {
        "id": "77U2BjILvDf_"
      },
      "outputs": [],
      "source": [
        "y_pred=model.predict(x_test)"
      ]
    },
    {
      "cell_type": "code",
      "execution_count": null,
      "metadata": {
        "id": "fIVQHoJVvHN3"
      },
      "outputs": [],
      "source": [
        "dframe=pd.DataFrame({'Actual':y_test,'Predicted':y_pred})\n",
        "dframe"
      ]
    },
    {
      "cell_type": "code",
      "execution_count": null,
      "metadata": {
        "id": "xi8n6fmhvHYX"
      },
      "outputs": [],
      "source": [
        "import matplotlib.pyplot as plt\n",
        "dframe.head(10).plot(kind='bar')\n",
        "plt.title(\"comparing actual y vs predicted y\")\n",
        "plt.show()"
      ]
    },
    {
      "cell_type": "code",
      "execution_count": null,
      "metadata": {
        "id": "7cuzEpmivwIv"
      },
      "outputs": [],
      "source": [
        "from sklearn.metrics import mean_squared_error,r2_score\n",
        "import numpy as np\n",
        "mse=mean_squared_error(y_test,y_pred)\n",
        "rmse=np.sqrt(mse)\n",
        "print(\"mean squared error:\",mse)\n",
        "print(\"root mean squared error:\",rmse)"
      ]
    },
    {
      "cell_type": "code",
      "execution_count": null,
      "metadata": {
        "id": "3FcoYrjBvwYA"
      },
      "outputs": [],
      "source": [
        "import seaborn as sns\n",
        "exercise=sns.load_dataset('exercise')\n",
        "exercise.head()"
      ]
    },
    {
      "cell_type": "code",
      "execution_count": null,
      "metadata": {
        "id": "E2bxM8XazYNQ"
      },
      "outputs": [],
      "source": [
        "print(\"\\nInfo about the tips dataset:\")\n",
        "exercise.info()\n",
        "print(\"\\ndescription of the tips dataset:\")\n",
        "exercise.describe(include='all')"
      ]
    },
    {
      "cell_type": "code",
      "execution_count": null,
      "metadata": {
        "id": "JnB53V4wzbBu"
      },
      "outputs": [],
      "source": [
        "exercise.info()"
      ]
    },
    {
      "cell_type": "code",
      "execution_count": null,
      "metadata": {
        "id": "ew3YPiVIzbFC"
      },
      "outputs": [],
      "source": [
        "exercise.describe()"
      ]
    },
    {
      "cell_type": "code",
      "execution_count": null,
      "metadata": {
        "id": "6y7BqhRWzbIO"
      },
      "outputs": [],
      "source": [
        "exercise.isnull().sum()"
      ]
    },
    {
      "cell_type": "code",
      "execution_count": null,
      "metadata": {
        "id": "Um4qMSIvz6U8"
      },
      "outputs": [],
      "source": [
        "df_exercise=pd.get_dummies(exercise,drop_first=True)\n",
        "df_exercise"
      ]
    },
    {
      "cell_type": "code",
      "execution_count": null,
      "metadata": {
        "id": "LbxpwXWjzbK5"
      },
      "outputs": [],
      "source": [
        "x=df_exercise[['diet_low fat', 'time_15 min','time_30 min', 'kind_walking','kind_running']]\n",
        "y=df_exercise[['pulse']]"
      ]
    },
    {
      "cell_type": "code",
      "execution_count": null,
      "metadata": {
        "id": "OdkOLTMuzbNi"
      },
      "outputs": [],
      "source": [
        "x"
      ]
    },
    {
      "cell_type": "code",
      "execution_count": null,
      "metadata": {
        "id": "ca4iFlFIzbQS"
      },
      "outputs": [],
      "source": [
        "y"
      ]
    },
    {
      "cell_type": "code",
      "execution_count": null,
      "metadata": {
        "id": "lb2LLOg7zbTv"
      },
      "outputs": [],
      "source": [
        "from sklearn.preprocessing import StandardScaler\n",
        "sc_x=StandardScaler()\n",
        "sc_y=StandardScaler()\n",
        "x_scaled = sc_x.fit_transform(x)\n",
        "y_scaled = sc_y.fit_transform(y)\n"
      ]
    },
    {
      "cell_type": "code",
      "execution_count": null,
      "metadata": {
        "id": "Gw4ckBsQDyK_"
      },
      "outputs": [],
      "source": [
        "y_scaled=y_scaled.ravel()\n",
        "y_scaled"
      ]
    },
    {
      "cell_type": "code",
      "execution_count": null,
      "metadata": {
        "id": "Rdwt5YiuDycA"
      },
      "outputs": [],
      "source": [
        "from sklearn.svm import SVR\n",
        "svr = SVR(kernel='rbf', C=100, epsilon=0.1)\n",
        "svr.fit(x_scaled, y_scaled)"
      ]
    },
    {
      "cell_type": "code",
      "execution_count": null,
      "metadata": {
        "id": "a58RVTpWEFWJ"
      },
      "outputs": [],
      "source": [
        "y_pred_scaled = svr.predict(x_scaled)\n",
        "y_pred = sc_y.inverse_transform(y_pred_scaled.reshape(-1, 1))"
      ]
    },
    {
      "cell_type": "code",
      "execution_count": null,
      "metadata": {
        "id": "CAyqA7cREFZr"
      },
      "outputs": [],
      "source": [
        "y_pred_scaled"
      ]
    },
    {
      "cell_type": "code",
      "execution_count": null,
      "metadata": {
        "id": "pJcYFHppEFdI"
      },
      "outputs": [],
      "source": [
        "y_pred"
      ]
    },
    {
      "cell_type": "code",
      "execution_count": null,
      "metadata": {
        "id": "JeWeGDokPk6r"
      },
      "outputs": [],
      "source": [
        "import numpy as np\n",
        "dframe=pd.DataFrame({'Actual':np.array(y).reshape(-1,),'Predicted':y_pred.reshape(-1,)})\n",
        "dframe\n"
      ]
    },
    {
      "cell_type": "code",
      "execution_count": null,
      "metadata": {
        "id": "-MDnHqbzQCG4"
      },
      "outputs": [],
      "source": [
        "import matplotlib.pyplot as plt\n",
        "dframe.head(10).plot(kind='bar')\n",
        "plt.title(\"comparing actual y vs predicted y\")\n",
        "plt.show()"
      ]
    },
    {
      "cell_type": "code",
      "execution_count": null,
      "metadata": {
        "id": "21SR9UQEFbBF"
      },
      "outputs": [],
      "source": [
        "from sklearn.metrics import mean_squared_error,r2_score\n",
        "import numpy as np\n",
        "mse=mean_squared_error(y,y_pred)\n",
        "rmse=np.sqrt(mse)\n",
        "print(\"mean squared error:\",mse)\n",
        "print(\"root mean squared error:\",rmse)"
      ]
    },
    {
      "cell_type": "code",
      "execution_count": null,
      "metadata": {
        "id": "ILworAymFbEj"
      },
      "outputs": [],
      "source": [
        "import seaborn as sns\n",
        "exercise=sns.load_dataset('exercise')\n",
        "exercise"
      ]
    },
    {
      "cell_type": "code",
      "execution_count": null,
      "metadata": {
        "id": "wtr2UBXrmNUK"
      },
      "outputs": [],
      "source": [
        "exercise_encoded = pd.get_dummies(exercise, drop_first=True)\n",
        "exercise_encoded"
      ]
    },
    {
      "cell_type": "code",
      "execution_count": null,
      "metadata": {
        "id": "ow_eaGXbmNco"
      },
      "outputs": [],
      "source": [
        "x=exercise_encoded.drop('pulse',axis=1)\n",
        "y=exercise_encoded['pulse']"
      ]
    },
    {
      "cell_type": "code",
      "execution_count": null,
      "metadata": {
        "id": "7-1Sk9tbmNgg"
      },
      "outputs": [],
      "source": [
        "from sklearn.model_selection import train_test_split\n",
        "x_train,x_test,y_train,y_test=train_test_split(x,y,test_size=0.2,random_state=42)"
      ]
    },
    {
      "cell_type": "code",
      "execution_count": null,
      "metadata": {
        "id": "mXN_gjSkmNk7"
      },
      "outputs": [],
      "source": [
        "from sklearn.tree import DecisionTreeRegressor, export_text\n",
        "regressor=DecisionTreeRegressor(max_depth=4, random_state=42)\n",
        "regressor.fit(x_train,y_train)"
      ]
    },
    {
      "cell_type": "code",
      "execution_count": null,
      "metadata": {
        "id": "xBEG_8A6FbIA"
      },
      "outputs": [],
      "source": [
        "y_pred=regressor.predict(x_test)"
      ]
    },
    {
      "cell_type": "code",
      "execution_count": null,
      "metadata": {
        "id": "UAoikdUgonbK"
      },
      "outputs": [],
      "source": [
        "from sklearn.metrics import mean_squared_error,r2_score\n",
        "import numpy as np\n",
        "mse=mean_squared_error(y_test,y_pred)\n",
        "rmse=np.sqrt(mse)\n",
        "print(\"mean squared error:\",mse)\n",
        "print(\"root mean squared error:\",rmse)\n"
      ]
    },
    {
      "cell_type": "code",
      "execution_count": null,
      "metadata": {
        "id": "knP45eC0onej"
      },
      "outputs": [],
      "source": [
        "import pandas as pd\n",
        "dframe=pd.DataFrame({'Actual':y_test,'Predicted':y_pred})\n",
        "dframe.head(15)"
      ]
    },
    {
      "cell_type": "code",
      "execution_count": null,
      "metadata": {
        "id": "u1gOYbkHoniH"
      },
      "outputs": [],
      "source": [
        "import matplotlib.pyplot as plt\n",
        "dframe.head(10).plot(kind='bar')\n",
        "plt.title(\"comparing actual y vs predicted y\")\n",
        "plt.show()"
      ]
    },
    {
      "cell_type": "code",
      "execution_count": null,
      "metadata": {
        "id": "bqNZMyNll7h3"
      },
      "outputs": [],
      "source": [
        "import pandas as pd\n",
        "url='https://raw.githubusercontent.com/Naresh312143/mahalingpur-python-ml/refs/heads/main/Indian%20Unicorn%20startups%202023%20updated.csv'\n",
        "df3 = pd.read_csv(url)\n",
        "df3.head()"
      ]
    },
    {
      "cell_type": "code",
      "execution_count": null,
      "metadata": {
        "id": "Wwd4daRYlTFP"
      },
      "outputs": [],
      "source": [
        "print(\"Dataset shape:\",df3.shape)\n",
        "print(\"columns Names:\")\n",
        "print(df3.columns.tolist())\n",
        "print(\"first 5 rows\")\n",
        "df3.head()"
      ]
    },
    {
      "cell_type": "code",
      "execution_count": null,
      "metadata": {
        "id": "tNkTaGnYlTKA"
      },
      "outputs": [],
      "source": [
        "print(\"Data types:\")\n",
        "print(df3.dtypes)\n",
        "print(\"missing values:\")\n",
        "print(df3.isnull().sum())"
      ]
    },
    {
      "cell_type": "code",
      "execution_count": null,
      "metadata": {
        "id": "3mKfvwM-lsO5"
      },
      "outputs": [],
      "source": [
        "print(\"Duplicate rows:\",df3.duplicated().sum())"
      ]
    },
    {
      "cell_type": "code",
      "execution_count": null,
      "metadata": {
        "id": "86t0sL_mmOjh"
      },
      "outputs": [],
      "source": [
        "df3.info()"
      ]
    },
    {
      "cell_type": "code",
      "execution_count": null,
      "metadata": {
        "id": "99yVnXzQmO8H"
      },
      "outputs": [],
      "source": [
        "df3.describe()"
      ]
    },
    {
      "cell_type": "code",
      "execution_count": null,
      "metadata": {
        "id": "qiiDelrnmY4R"
      },
      "outputs": [],
      "source": [
        "df3.isnull().sum()"
      ]
    },
    {
      "cell_type": "code",
      "execution_count": null,
      "metadata": {
        "id": "05MQ9GsWmZDx"
      },
      "outputs": [],
      "source": [
        "df3.describe()"
      ]
    },
    {
      "cell_type": "code",
      "execution_count": null,
      "metadata": {
        "id": "XORPtboXmvoy"
      },
      "outputs": [],
      "source": [
        "df3.columns = df3.columns.str.strip()"
      ]
    },
    {
      "cell_type": "code",
      "execution_count": null,
      "metadata": {
        "id": "Bv3CB6XnmQNY"
      },
      "outputs": [],
      "source": [
        "df3['Entry_Date'] = pd.to_datetime(df3['Entry'], format='%b/%Y')\n",
        "df3['Entry_year'] = df3['Entry_Date'].dt.year\n",
        "df3.head()"
      ]
    },
    {
      "cell_type": "code",
      "execution_count": null,
      "metadata": {
        "id": "CdfIxv2vmvxC"
      },
      "outputs": [],
      "source": [
        "df3['Valuation_Growth'] = df3['Valuation ($B)'] / df3['Entry Valuation^^ ($B)']"
      ]
    },
    {
      "cell_type": "code",
      "execution_count": null,
      "metadata": {
        "id": "jjXQE9R3mv04"
      },
      "outputs": [],
      "source": [
        "df3['Primary_City'] = df3['Location'].str.split().str[0]"
      ]
    },
    {
      "cell_type": "code",
      "execution_count": null,
      "metadata": {
        "id": "Xg9wZWydmv4r"
      },
      "outputs": [],
      "source": [
        "df3['Investors_Count'] = df3['Select Investors'].str.count(',')+1\n",
        "df3.head()\n",
        "\n"
      ]
    },
    {
      "cell_type": "code",
      "execution_count": null,
      "metadata": {
        "id": "RV1j26EgpwiZ"
      },
      "outputs": [],
      "source": [
        "a=df3['Valuation ($B)']\n",
        "print(a)\n",
        "plt.hist(df3['Valuation ($B)'],bins=5,color='orange',edgecolor='black')\n",
        "plt.title(\"Valuation ($B) distribution\")\n",
        "plt.xlabel(\"Valuation ($B)\")\n",
        "plt.ylabel(\"Frequency\")\n",
        "plt.show()"
      ]
    },
    {
      "cell_type": "code",
      "execution_count": null,
      "metadata": {
        "id": "r1nmxF97mqL4"
      },
      "outputs": [],
      "source": [
        "import matplotlib.pyplot as plt\n",
        "plt.boxplot(df3['Valuation ($B)'])\n",
        "plt.title('Valuation Boxplot')\n",
        "plt.ylabel('Valuation ($B)')\n",
        "\n",
        "plt.show()"
      ]
    },
    {
      "cell_type": "code",
      "execution_count": null,
      "metadata": {
        "id": "f7Qfp4kAoDWY"
      },
      "outputs": [],
      "source": [
        "sector_counts = df3['Sector'].value_counts().sort_values(ascending=False).head(10)\n",
        "print(sector_counts)\n",
        "plt.pie(sector_counts.values, labels=sector_counts.index, autopct='%1.1f%%')\n",
        "plt.title('Distribution of Unicorns by Sector', fontsize=16, fontweight='bold')\n",
        "\n",
        "plt.show()"
      ]
    },
    {
      "cell_type": "code",
      "execution_count": null,
      "metadata": {
        "id": "wY9uylOdoDZW"
      },
      "outputs": [],
      "source": [
        "top_sectors = sector_counts\n",
        "print(top_sectors)\n",
        "print(\"---------\")\n",
        "print(top_sectors.index)\n",
        "bars = plt.bar(top_sectors.index, top_sectors.values, color='steelblue')\n",
        "plt.title('Top 10 Sectors by Number of Unicorns', fontsize=14, fontweight='bold')\n",
        "plt.xlabel('Sectors')\n",
        "plt.ylabel('Number of Unicorns')\n",
        "plt.xticks(rotation=45) # to align labels on x axis properly\n",
        "\n",
        "plt.show()"
      ]
    },
    {
      "cell_type": "code",
      "execution_count": null,
      "metadata": {
        "id": "HmgNL-uroDcz"
      },
      "outputs": [],
      "source": [
        "city_counts = df3['Primary_City'].value_counts().head(10)\n",
        "bars = plt.bar(city_counts.index, city_counts.values, color='coral')\n",
        "plt.title('Top Cities by Number of Unicorns', fontsize=14, fontweight='bold')\n",
        "plt.xlabel('Cities')\n",
        "plt.ylabel('Number of Unicorns')\n",
        "plt.xticks(rotation=45)\n",
        "plt.show()"
      ]
    },
    {
      "cell_type": "code",
      "execution_count": null,
      "metadata": {
        "id": "C4FSmQ3ooDfo"
      },
      "outputs": [],
      "source": [
        "city_summary = df3.groupby('Primary_City').agg({\n",
        "    'Valuation ($B)': ['count', 'sum', 'mean'],\n",
        "    'Entry_year': ['min', 'max']\n",
        "})\n",
        "city_summary.columns = ['Count', 'Total_Valuation', 'Avg_Valuation', 'First_Entry', 'Last_Entry']\n",
        "print(city_summary.head(10))"
      ]
    },
    {
      "cell_type": "code",
      "execution_count": null,
      "metadata": {
        "id": "yYBukhCIoDij"
      },
      "outputs": [],
      "source": [
        "yearly_entries = df3['Entry_year'].value_counts().sort_index()\n",
        "bars = plt.bar(yearly_entries.index, yearly_entries.values, color='lightblue')\n",
        "plt.title('Unicorns Created by Year', fontweight='bold')\n",
        "plt.xlabel('Year')\n",
        "plt.ylabel('Number of Unicorns')\n",
        "plt.xticks(yearly_entries.index, rotation=45)"
      ]
    },
    {
      "cell_type": "code",
      "execution_count": null,
      "metadata": {
        "id": "kY64S5sToDl0"
      },
      "outputs": [],
      "source": [
        "avg_val_by_year = df3.groupby('Entry_year')['Valuation ($B)'].mean()\n",
        "plt.bar(avg_val_by_year.index, avg_val_by_year.values, color='gold')\n",
        "plt.title('Average Valuation by Entry Year', fontweight='bold')\n",
        "plt.xlabel('Year')\n",
        "plt.ylabel('Average Valuation ($B)')\n",
        "plt.show()"
      ]
    },
    {
      "cell_type": "code",
      "execution_count": null,
      "metadata": {
        "id": "ope9VuOioDqz"
      },
      "outputs": [],
      "source": [
        "avg_valuation = df3.groupby('Sector')['Valuation ($B)'].mean().sort_values(ascending=False).head(10)\n",
        "print(avg_valuation)\n",
        "bars = plt.bar(avg_valuation.index, avg_valuation.values, color='lightcoral')\n",
        "plt.title('Average Valuation by Sector (Top 10)', fontweight='bold')\n",
        "plt.xlabel('Sector')\n",
        "plt.ylabel('Average Valuation ($B)')\n",
        "plt.xticks(rotation=45,ha='right') # to align labels on x axis properly\n",
        "plt.show()"
      ]
    },
    {
      "cell_type": "code",
      "execution_count": null,
      "metadata": {
        "id": "yvkau-NWoDuB"
      },
      "outputs": [],
      "source": [
        "city_valuation = df3.groupby('Primary_City')['Valuation ($B)'].mean().sort_values(ascending=False).head(10)\n",
        "bars = plt.bar(city_valuation.index, city_valuation.values, color='teal')\n",
        "plt.title('Average Valuation by City', fontweight='bold')\n",
        "plt.xlabel('City')\n",
        "plt.ylabel('Average Valuation ($B)')\n",
        "plt.xticks(rotation=45, ha='right')\n",
        "plt.show()"
      ]
    },
    {
      "cell_type": "code",
      "execution_count": null,
      "metadata": {
        "id": "AtfdkB_NoDwo"
      },
      "outputs": [],
      "source": [
        "plt.scatter(df3['Investors_Count'], df3['Valuation ($B)'], alpha=0.6, s=60, color='purple')\n",
        "plt.title('Number of Investors vs Valuation', fontweight='bold')\n",
        "plt.xlabel('Number of Investors')\n",
        "plt.ylabel('Valuation ($B)')\n",
        "plt.show()"
      ]
    },
    {
      "cell_type": "code",
      "execution_count": null,
      "metadata": {
        "id": "GdN-ZKNnoDzl"
      },
      "outputs": [],
      "source": [
        "year_Investor = df3.groupby('Entry_year')['Investors_Count'].mean()\n",
        "plt.plot(year_Investor.index, year_Investor.values, marker='o', linewidth=2, markersize=6, color='red')\n",
        "plt.title('Average Investor Count by Entry Year', fontweight='bold')\n",
        "plt.xlabel('Entry Year')\n",
        "plt.ylabel('Average Number of Investors')\n",
        "plt.show()"
      ]
    },
    {
      "cell_type": "code",
      "execution_count": null,
      "metadata": {
        "id": "isL9WT9EoD2w"
      },
      "outputs": [],
      "source": [
        "print(\"Total Market Value:\", df3['Valuation ($B)'].sum())\n",
        "print(\"Average Valuation:\", df3['Valuation ($B)'].mean())\n",
        "print(\"Median Valuation:\", df3['Valuation ($B)'].median())\n"
      ]
    },
    {
      "cell_type": "code",
      "execution_count": null,
      "metadata": {
        "id": "FZy6ZLMKoD55"
      },
      "outputs": [],
      "source": [
        "print(\"SECTOR Diversity\")\n",
        "print(len(df3['Sector'].unique()))"
      ]
    },
    {
      "cell_type": "code",
      "execution_count": null,
      "metadata": {
        "id": "ZNfTrXMbpT-g"
      },
      "outputs": [],
      "source": [
        "print(len(df3['Primary_City'].unique()))"
      ]
    },
    {
      "cell_type": "code",
      "execution_count": null,
      "metadata": {
        "id": "pVwq32sepUDc"
      },
      "outputs": [],
      "source": [
        "print(\"No of unicons after 2020\")\n",
        "print((df3['Entry_year'] >= 2020).sum())"
      ]
    },
    {
      "cell_type": "code",
      "execution_count": null,
      "metadata": {
        "id": "kSvQSHi6pUJR"
      },
      "outputs": [],
      "source": [
        "print(\"\\n5. INVESTMENT INSIGHTS:\")\n",
        "print(\"Average Investors per Unicorn:\", df3['Investors_Count'].mean())\n",
        "print(\"Average Valuation Growth:\", df3['Valuation_Growth'].mean())"
      ]
    },
    {
      "cell_type": "code",
      "execution_count": null,
      "metadata": {
        "id": "xK_uySKq7z4r"
      },
      "outputs": [],
      "source": [
        "import pandas as pd\n",
        "url='https://raw.githubusercontent.com/Naresh312143/mahalingpur-python-ml/refs/heads/main/Indian%20Unicorn%20startups%202023%20updated.csv'\n",
        "df3 = pd.read_csv(url)\n",
        "df3"
      ]
    },
    {
      "cell_type": "code",
      "execution_count": null,
      "metadata": {
        "id": "wPkiqdsW7z_g"
      },
      "outputs": [],
      "source": [
        "df3.isnull().sum()"
      ]
    },
    {
      "cell_type": "code",
      "execution_count": null,
      "metadata": {
        "id": "54RH18zY70DM"
      },
      "outputs": [],
      "source": [
        "sns.pairplot(df3,hue='Sector')\n",
        "plt.show()"
      ]
    },
    {
      "cell_type": "code",
      "execution_count": null,
      "metadata": {
        "id": "1BjQJHpd70LO"
      },
      "outputs": [],
      "source": [
        "corr=df3.corr(numeric_only=True)\n",
        "sns.heatmap(corr,annot=True, cmap=\"coolwarm\")\n",
        "plt.title(\"correlation matrix\")\n",
        "plt.show()"
      ]
    },
    {
      "cell_type": "code",
      "execution_count": null,
      "metadata": {
        "id": "d6LVVujiL5rk"
      },
      "outputs": [],
      "source": [
        "sns.boxplot(x=\"Sector\",y=\"Valuation ($B)\",data=df3)\n",
        "plt.title(\"boxplot of Sector\")\n",
        "plt.show()"
      ]
    },
    {
      "cell_type": "code",
      "execution_count": null,
      "metadata": {
        "id": "ZQQvclJIL5ws"
      },
      "outputs": [],
      "source": [
        "sns.countplot(x=\"Sector\",data=df3)\n",
        "plt.title(\"count of Sector\")\n",
        "plt.show()"
      ]
    },
    {
      "cell_type": "code",
      "execution_count": null,
      "metadata": {
        "colab": {
          "background_save": true
        },
        "id": "s9wNKngjMC4c"
      },
      "outputs": [],
      "source": [
        "df3_encoded = pd.get_dummies(df3, drop_first=True)\n",
        "df3_encoded"
      ]
    },
    {
      "cell_type": "code",
      "execution_count": null,
      "metadata": {
        "colab": {
          "background_save": true
        },
        "id": "7o23aWm-M4R8"
      },
      "outputs": [],
      "source": [
        "x=df3_encoded.drop('Valuation ($B)',axis=1)\n",
        "y=df3_encoded['Valuation ($B)']"
      ]
    },
    {
      "cell_type": "code",
      "execution_count": null,
      "metadata": {
        "colab": {
          "background_save": true
        },
        "id": "feOFg_kSMC9Q"
      },
      "outputs": [],
      "source": [
        "from sklearn.preprocessing import StandardScaler\n",
        "scaler=StandardScaler()\n",
        "x=scaler.fit_transform(x)\n",
        "x"
      ]
    },
    {
      "cell_type": "code",
      "execution_count": null,
      "metadata": {
        "colab": {
          "background_save": true
        },
        "id": "7vkbeAfyMDA1"
      },
      "outputs": [],
      "source": [
        "from sklearn.model_selection import train_test_split\n",
        "x_train,x_test,y_train,y_test=train_test_split(x,y,test_size=0.2,random_state=42)"
      ]
    },
    {
      "cell_type": "code",
      "execution_count": null,
      "metadata": {
        "colab": {
          "background_save": true
        },
        "id": "JJhrK8e_OeWu"
      },
      "outputs": [],
      "source": [
        "from sklearn.linear_model import LinearRegression\n",
        "model=LinearRegression()\n",
        "model.fit(x_train,y_train)"
      ]
    },
    {
      "cell_type": "code",
      "execution_count": null,
      "metadata": {
        "colab": {
          "background_save": true
        },
        "id": "_igxBEVLOecI"
      },
      "outputs": [],
      "source": [
        "y_pred=model.predict(x_test)"
      ]
    },
    {
      "cell_type": "code",
      "execution_count": null,
      "metadata": {
        "colab": {
          "background_save": true
        },
        "id": "_87bXuhkOefz"
      },
      "outputs": [],
      "source": [
        "dframe=pd.DataFrame({'Actual':y_test,'Predicted':y_pred})\n",
        "dframe"
      ]
    },
    {
      "cell_type": "code",
      "execution_count": null,
      "metadata": {
        "colab": {
          "background_save": true
        },
        "id": "l5LbPF-oOejW"
      },
      "outputs": [],
      "source": [
        "import matplotlib.pyplot as plt\n",
        "dframe.head(10).plot(kind='bar')\n",
        "plt.title(\"comparing actual y vs predicted y\")\n",
        "plt.show()"
      ]
    },
    {
      "cell_type": "code",
      "execution_count": null,
      "metadata": {
        "colab": {
          "background_save": true
        },
        "id": "E-Du9yxeOeqN"
      },
      "outputs": [],
      "source": [
        "from sklearn.metrics import mean_squared_error,r2_score\n",
        "import numpy as np\n",
        "mse=mean_squared_error(y_test,y_pred)\n",
        "rmse = np.sqrt(mse)\n",
        "print(\"mean squared error:\",mse)\n",
        "print(\"root mean squared error:\",rmse)"
      ]
    },
    {
      "cell_type": "code",
      "execution_count": null,
      "metadata": {
        "colab": {
          "background_save": true
        },
        "id": "FT8mKFE8Oets"
      },
      "outputs": [],
      "source": [
        "import pandas as pd\n",
        "url='https://raw.githubusercontent.com/Naresh312143/mahalingpur-python-ml/refs/heads/main/Indian%20Unicorn%20startups%202023%20updated.csv'\n",
        "df3 = pd.read_csv(url)\n",
        "df3.head()\n"
      ]
    },
    {
      "cell_type": "code",
      "execution_count": null,
      "metadata": {
        "colab": {
          "background_save": true
        },
        "id": "BklzdnVXwaD7"
      },
      "outputs": [],
      "source": [
        "x=df3[['Company','Sector','Entry Valuation^^ ($B)','Entry','Location','Select Investors']]\n",
        "y=df3[['Valuation ($B)']]"
      ]
    },
    {
      "cell_type": "code",
      "execution_count": null,
      "metadata": {
        "colab": {
          "background_save": true
        },
        "id": "OoQz95nNwaHY"
      },
      "outputs": [],
      "source": [
        "x=pd.get_dummies(x,drop_first=True)\n",
        "y=pd.get_dummies(y,drop_first=True)"
      ]
    },
    {
      "cell_type": "code",
      "execution_count": null,
      "metadata": {
        "colab": {
          "background_save": true
        },
        "id": "9orpBLM-waKC"
      },
      "outputs": [],
      "source": [
        "from sklearn.preprocessing import StandardScaler\n",
        "sc_x=StandardScaler()\n",
        "sc_y=StandardScaler()\n",
        "x_scaled=sc_x.fit_transform(x)\n",
        "y_scaled=sc_y.fit_transform(y)"
      ]
    },
    {
      "cell_type": "code",
      "execution_count": null,
      "metadata": {
        "colab": {
          "background_save": true
        },
        "id": "fJwAavLLwaM4"
      },
      "outputs": [],
      "source": [
        "y_scaled=y_scaled.ravel()\n",
        "y_scaled"
      ]
    },
    {
      "cell_type": "code",
      "execution_count": null,
      "metadata": {
        "colab": {
          "background_save": true
        },
        "id": "k5fbjT-ewaPt"
      },
      "outputs": [],
      "source": [
        "from sklearn.svm import SVR\n",
        "svr = SVR(kernel='rbf', C=100, epsilon=0.1)\n",
        "svr.fit(x_scaled, y_scaled)"
      ]
    },
    {
      "cell_type": "code",
      "execution_count": null,
      "metadata": {
        "colab": {
          "background_save": true
        },
        "id": "3sGnGUZbwaTC"
      },
      "outputs": [],
      "source": [
        "y_pred_scaled = svr.predict(x_scaled)\n",
        "y_pred = sc_y.inverse_transform(y_pred_scaled.reshape(-1, 1))"
      ]
    },
    {
      "cell_type": "code",
      "execution_count": null,
      "metadata": {
        "colab": {
          "background_save": true
        },
        "id": "YR6UyZYUwaWV"
      },
      "outputs": [],
      "source": [
        "from sklearn.metrics import mean_squared_error,r2_score\n",
        "import numpy as np\n",
        "mse=mean_squared_error(y,y_pred)\n",
        "rmse=np.sqrt(mse)\n",
        "print(\"mean squared error:\",mse)\n",
        "print(\"root mean squared error:\",rmse)"
      ]
    },
    {
      "cell_type": "code",
      "execution_count": null,
      "metadata": {
        "colab": {
          "background_save": true
        },
        "id": "lp95sY_JxI0b"
      },
      "outputs": [],
      "source": [
        "import numpy as np\n",
        "dframe=pd.DataFrame({'Actual':np.array(y).reshape(-1,),'Predicted':y_pred.reshape(-1,)})\n",
        "dframe"
      ]
    },
    {
      "cell_type": "code",
      "execution_count": null,
      "metadata": {
        "colab": {
          "background_save": true
        },
        "id": "eqULiPlFxOwb"
      },
      "outputs": [],
      "source": [
        "import matplotlib.pyplot as plt\n",
        "dframe.head(10).plot(kind='bar')\n",
        "plt.title(\"comparing actual y vs predicted y\")\n",
        "plt.show()"
      ]
    },
    {
      "cell_type": "code",
      "execution_count": null,
      "metadata": {
        "colab": {
          "background_save": true
        },
        "id": "l7i0sKerTog2"
      },
      "outputs": [],
      "source": [
        "import pandas as pd\n",
        "url='https://raw.githubusercontent.com/Naresh312143/mahalingpur-python-ml/refs/heads/main/Indian%20Unicorn%20startups%202023%20updated.csv'\n",
        "df3 = pd.read_csv(url)\n",
        "df3.head()"
      ]
    },
    {
      "cell_type": "code",
      "execution_count": null,
      "metadata": {
        "colab": {
          "background_save": true
        },
        "id": "_42IhRy-Tok-"
      },
      "outputs": [],
      "source": [
        "df3_encoded=pd.get_dummies(df3,drop_first=True)\n",
        "df3_encoded"
      ]
    },
    {
      "cell_type": "code",
      "execution_count": null,
      "metadata": {
        "colab": {
          "background_save": true
        },
        "id": "vnfVMtOSTooR"
      },
      "outputs": [],
      "source": [
        "x=df3_encoded.drop('Valuation ($B)',axis=1)\n",
        "y=df3_encoded['Valuation ($B)']"
      ]
    },
    {
      "cell_type": "code",
      "execution_count": null,
      "metadata": {
        "colab": {
          "background_save": true
        },
        "id": "YU78vPETTorn"
      },
      "outputs": [],
      "source": [
        "from sklearn.model_selection import train_test_split\n",
        "x_train,x_test,y_train,y_test=train_test_split(x,y,test_size=0.2,random_state=42)"
      ]
    },
    {
      "cell_type": "code",
      "execution_count": null,
      "metadata": {
        "colab": {
          "background_save": true
        },
        "id": "tZQd3k9sVEgr"
      },
      "outputs": [],
      "source": [
        "from sklearn.tree import DecisionTreeRegressor, export_text\n",
        "regressor=DecisionTreeRegressor(max_depth=4, random_state=42)\n",
        "regressor.fit(x_train,y_train)"
      ]
    },
    {
      "cell_type": "code",
      "execution_count": null,
      "metadata": {
        "colab": {
          "background_save": true
        },
        "id": "9QkDsWgFVEkD"
      },
      "outputs": [],
      "source": [
        "y_pred=regressor.predict(x_test)"
      ]
    },
    {
      "cell_type": "code",
      "execution_count": null,
      "metadata": {
        "colab": {
          "background_save": true
        },
        "id": "XKKjepvFVEoP"
      },
      "outputs": [],
      "source": [
        "from sklearn.metrics import mean_squared_error,r2_score\n",
        "import numpy as np\n",
        "mse=mean_squared_error(y_test,y_pred)\n",
        "rmse=np.sqrt(mse)\n",
        "print(\"mean squared error:\",mse)\n",
        "print(\"root mean squared error:\",rmse)"
      ]
    },
    {
      "cell_type": "code",
      "execution_count": null,
      "metadata": {
        "colab": {
          "background_save": true
        },
        "id": "n1iQtjNGVEsa"
      },
      "outputs": [],
      "source": [
        "\n"
      ]
    }
  ],
  "metadata": {
    "colab": {
      "provenance": []
    },
    "kernelspec": {
      "display_name": "Python 3",
      "name": "python3"
    },
    "language_info": {
      "name": "python"
    }
  },
  "nbformat": 4,
  "nbformat_minor": 0
}